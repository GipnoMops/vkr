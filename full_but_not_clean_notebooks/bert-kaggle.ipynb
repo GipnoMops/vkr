{
 "cells": [
  {
   "cell_type": "code",
   "execution_count": 1,
   "metadata": {
    "_cell_guid": "b1076dfc-b9ad-4769-8c92-a6c4dae69d19",
    "_uuid": "8f2839f25d086af736a60e9eeb907d3b93b6e0e5",
    "execution": {
     "iopub.execute_input": "2024-05-27T10:55:49.425731Z",
     "iopub.status.busy": "2024-05-27T10:55:49.425433Z",
     "iopub.status.idle": "2024-05-27T10:56:04.075942Z",
     "shell.execute_reply": "2024-05-27T10:56:04.075005Z",
     "shell.execute_reply.started": "2024-05-27T10:55:49.425705Z"
    }
   },
   "outputs": [
    {
     "data": {
      "application/vnd.jupyter.widget-view+json": {
       "model_id": "ece246d2609b47ce837977dcc34ffdf2",
       "version_major": 2,
       "version_minor": 0
      },
      "text/plain": [
       "tokenizer_config.json:   0%|          | 0.00/24.0 [00:00<?, ?B/s]"
      ]
     },
     "metadata": {},
     "output_type": "display_data"
    },
    {
     "data": {
      "application/vnd.jupyter.widget-view+json": {
       "model_id": "36b5c8821a284946a200e86cf2615142",
       "version_major": 2,
       "version_minor": 0
      },
      "text/plain": [
       "config.json:   0%|          | 0.00/642 [00:00<?, ?B/s]"
      ]
     },
     "metadata": {},
     "output_type": "display_data"
    },
    {
     "data": {
      "application/vnd.jupyter.widget-view+json": {
       "model_id": "598d1ee2add2435b8acaaff5e7fcceb6",
       "version_major": 2,
       "version_minor": 0
      },
      "text/plain": [
       "vocab.txt:   0%|          | 0.00/1.65M [00:00<?, ?B/s]"
      ]
     },
     "metadata": {},
     "output_type": "display_data"
    },
    {
     "data": {
      "application/vnd.jupyter.widget-view+json": {
       "model_id": "8eb1f1c0de7a4968a6cde1bcc157a1f1",
       "version_major": 2,
       "version_minor": 0
      },
      "text/plain": [
       "special_tokens_map.json:   0%|          | 0.00/112 [00:00<?, ?B/s]"
      ]
     },
     "metadata": {},
     "output_type": "display_data"
    },
    {
     "data": {
      "application/vnd.jupyter.widget-view+json": {
       "model_id": "c7a13e316608474a992333c50ad50a13",
       "version_major": 2,
       "version_minor": 0
      },
      "text/plain": [
       "pytorch_model.bin:   0%|          | 0.00/714M [00:00<?, ?B/s]"
      ]
     },
     "metadata": {},
     "output_type": "display_data"
    },
    {
     "name": "stderr",
     "output_type": "stream",
     "text": [
      "/opt/conda/lib/python3.10/site-packages/torch/_utils.py:831: UserWarning: TypedStorage is deprecated. It will be removed in the future and UntypedStorage will be the only storage class. This should only matter to you if you are using storages directly.  To access UntypedStorage directly, use tensor.untyped_storage() instead of tensor.storage()\n",
      "  return self.fget.__get__(instance, owner)()\n",
      "Some weights of the model checkpoint at DeepPavlov/rubert-base-cased were not used when initializing BertModel: ['cls.predictions.bias', 'cls.predictions.decoder.bias', 'cls.predictions.decoder.weight', 'cls.predictions.transform.LayerNorm.bias', 'cls.predictions.transform.LayerNorm.weight', 'cls.predictions.transform.dense.bias', 'cls.predictions.transform.dense.weight', 'cls.seq_relationship.bias', 'cls.seq_relationship.weight']\n",
      "- This IS expected if you are initializing BertModel from the checkpoint of a model trained on another task or with another architecture (e.g. initializing a BertForSequenceClassification model from a BertForPreTraining model).\n",
      "- This IS NOT expected if you are initializing BertModel from the checkpoint of a model that you expect to be exactly identical (initializing a BertForSequenceClassification model from a BertForSequenceClassification model).\n",
      "Asking to truncate to max_length but no maximum length is provided and the model has no predefined maximum length. Default to no truncation.\n"
     ]
    },
    {
     "name": "stdout",
     "output_type": "stream",
     "text": [
      "(768,)\n"
     ]
    }
   ],
   "source": [
    "import torch\n",
    "from transformers import AutoTokenizer, AutoModel\n",
    "tokenizer = AutoTokenizer.from_pretrained(\"DeepPavlov/rubert-base-cased\")\n",
    "model = AutoModel.from_pretrained(\"DeepPavlov/rubert-base-cased\").to('cuda')\n",
    "\n",
    "\n",
    "def embed_bert_cls(text, model, tokenizer):\n",
    "    t = tokenizer(text, padding=True, truncation=True, return_tensors='pt')\n",
    "    with torch.no_grad():\n",
    "        model_output = model(**{k: v.to(model.device) for k, v in t.items()})\n",
    "    embeddings = model_output.last_hidden_state[:, 0, :]\n",
    "    embeddings = torch.nn.functional.normalize(embeddings)\n",
    "    return embeddings[0].cpu().numpy()\n",
    "\n",
    "print(embed_bert_cls('привет мир! Как житуха, как дела?', model, tokenizer).shape )"
   ]
  },
  {
   "cell_type": "code",
   "execution_count": 2,
   "metadata": {
    "execution": {
     "iopub.execute_input": "2024-05-27T10:56:04.078712Z",
     "iopub.status.busy": "2024-05-27T10:56:04.077910Z",
     "iopub.status.idle": "2024-05-27T10:56:04.110084Z",
     "shell.execute_reply": "2024-05-27T10:56:04.109163Z",
     "shell.execute_reply.started": "2024-05-27T10:56:04.078676Z"
    }
   },
   "outputs": [
    {
     "name": "stdout",
     "output_type": "stream",
     "text": [
      "0.9042015075683594\n"
     ]
    }
   ],
   "source": [
    "import numpy as np\n",
    "from math import sqrt\n",
    "text1 = \"чайники оченьхорошая штука и сегодня мы вам расскажем почему именно чайники о почему именно чайники оченьхорошая ш чайники оченьхорошая штука и сегодня мы вам расскажем почему именно\"\n",
    "text2 = \"сегодня я с женой ходил покупать чайник\"\n",
    "vector1 = np.array(embed_bert_cls(text1, model, tokenizer))\n",
    "vector2 = np.array(embed_bert_cls(text2, model, tokenizer)) \n",
    "print(f\"{np.dot(vector1, vector2)/sqrt(np.dot(vector1, vector1)* np.dot(vector2, vector2))}\")"
   ]
  },
  {
   "cell_type": "code",
   "execution_count": 3,
   "metadata": {
    "execution": {
     "iopub.execute_input": "2024-05-27T10:56:04.111760Z",
     "iopub.status.busy": "2024-05-27T10:56:04.111352Z",
     "iopub.status.idle": "2024-05-27T10:56:04.244500Z",
     "shell.execute_reply": "2024-05-27T10:56:04.243715Z",
     "shell.execute_reply.started": "2024-05-27T10:56:04.111728Z"
    }
   },
   "outputs": [
    {
     "name": "stdout",
     "output_type": "stream",
     "text": [
      "torch.Size([1, 768])\n",
      "torch.Size([1, 46, 768])\n"
     ]
    }
   ],
   "source": [
    "t = tokenizer(text1, padding=True, truncation=True, return_tensors='pt')\n",
    "with torch.no_grad():\n",
    "    model_output = model(**{k: v.to(model.device) for k, v in t.items()})\n",
    "\n",
    "embeddings = model_output.last_hidden_state[:, 0, :]\n",
    "embeddings1 = model_output.last_hidden_state\n",
    "print(embeddings.shape)\n",
    "print(embeddings1.shape)"
   ]
  },
  {
   "cell_type": "code",
   "execution_count": null,
   "metadata": {},
   "outputs": [],
   "source": []
  },
  {
   "cell_type": "markdown",
   "metadata": {},
   "source": [
    "## rubert-base-cased encode"
   ]
  },
  {
   "cell_type": "code",
   "execution_count": null,
   "metadata": {
    "execution": {
     "iopub.execute_input": "2024-05-18T12:55:33.025810Z",
     "iopub.status.busy": "2024-05-18T12:55:33.024943Z",
     "iopub.status.idle": "2024-05-18T12:55:39.092487Z",
     "shell.execute_reply": "2024-05-18T12:55:39.091434Z",
     "shell.execute_reply.started": "2024-05-18T12:55:33.025777Z"
    }
   },
   "outputs": [],
   "source": [
    "import pandas as pd\n",
    "\n",
    "df = pd.read_json('####')\n",
    "df.head(1)"
   ]
  },
  {
   "cell_type": "code",
   "execution_count": null,
   "metadata": {
    "execution": {
     "iopub.execute_input": "2024-05-18T12:57:06.200785Z",
     "iopub.status.busy": "2024-05-18T12:57:06.200426Z",
     "iopub.status.idle": "2024-05-18T12:58:28.892268Z",
     "shell.execute_reply": "2024-05-18T12:58:28.891413Z",
     "shell.execute_reply.started": "2024-05-18T12:57:06.200756Z"
    }
   },
   "outputs": [],
   "source": [
    "# 15:57 - \n",
    "\n",
    "from tqdm import tqdm, tqdm_pandas\n",
    "tqdm.pandas()\n",
    "\n",
    "df['st_base'] = None\n",
    "df.loc[df.site_text.notna(), 'st_base'] = df[df.site_text.notna()]['site_text'].progress_apply(lambda x: np.array(embed_bert_cls(x[:512], model, tokenizer)))"
   ]
  },
  {
   "cell_type": "code",
   "execution_count": null,
   "metadata": {
    "execution": {
     "iopub.execute_input": "2024-05-18T12:58:44.424640Z",
     "iopub.status.busy": "2024-05-18T12:58:44.423824Z",
     "iopub.status.idle": "2024-05-18T12:58:44.440580Z",
     "shell.execute_reply": "2024-05-18T12:58:44.439413Z",
     "shell.execute_reply.started": "2024-05-18T12:58:44.424604Z"
    }
   },
   "outputs": [],
   "source": [
    "df.head(1)"
   ]
  },
  {
   "cell_type": "code",
   "execution_count": null,
   "metadata": {
    "execution": {
     "iopub.execute_input": "2024-05-18T13:00:29.392555Z",
     "iopub.status.busy": "2024-05-18T13:00:29.391703Z",
     "iopub.status.idle": "2024-05-18T13:01:47.744577Z",
     "shell.execute_reply": "2024-05-18T13:01:47.743706Z",
     "shell.execute_reply.started": "2024-05-18T13:00:29.392523Z"
    }
   },
   "outputs": [],
   "source": [
    "from tqdm import tqdm, tqdm_pandas\n",
    "tqdm.pandas()\n",
    "\n",
    "df['at_base'] = None\n",
    "df.loc[df.ad_text.notna(), 'at_base'] = df[df.ad_text.notna()]['ad_text'].progress_apply(lambda x: np.array(embed_bert_cls(x[:512], model, tokenizer)))\n",
    "df.head(1)"
   ]
  },
  {
   "cell_type": "code",
   "execution_count": null,
   "metadata": {
    "execution": {
     "iopub.execute_input": "2024-05-18T13:11:31.071326Z",
     "iopub.status.busy": "2024-05-18T13:11:31.070471Z",
     "iopub.status.idle": "2024-05-18T13:11:33.280424Z",
     "shell.execute_reply": "2024-05-18T13:11:33.279439Z",
     "shell.execute_reply.started": "2024-05-18T13:11:31.071292Z"
    }
   },
   "outputs": [],
   "source": [
    "from sklearn.metrics.pairwise import cosine_similarity as cos_sim\n",
    "\n",
    "import warnings\n",
    "warnings.filterwarnings('ignore')\n",
    "\n",
    "df['cos_sim1'] = None\n",
    "df.loc[df.st_base.notna() & df.at_base.notna(), 'cos_sim1'] = df[df.st_base.notna() & df.at_base.notna()][['st_base', 'at_base']].apply(lambda x: cos_sim([x[0]], [x[1]])[0][0], axis=1)\n",
    "df.head(1)"
   ]
  },
  {
   "cell_type": "code",
   "execution_count": null,
   "metadata": {
    "execution": {
     "iopub.execute_input": "2024-05-18T13:23:06.826198Z",
     "iopub.status.busy": "2024-05-18T13:23:06.825448Z",
     "iopub.status.idle": "2024-05-18T13:23:06.836951Z",
     "shell.execute_reply": "2024-05-18T13:23:06.836125Z",
     "shell.execute_reply.started": "2024-05-18T13:23:06.826162Z"
    }
   },
   "outputs": [],
   "source": [
    "df = df.sort_values(by='ctr')"
   ]
  },
  {
   "cell_type": "code",
   "execution_count": null,
   "metadata": {
    "execution": {
     "iopub.execute_input": "2024-05-18T13:26:39.981788Z",
     "iopub.status.busy": "2024-05-18T13:26:39.981434Z",
     "iopub.status.idle": "2024-05-18T13:26:39.994253Z",
     "shell.execute_reply": "2024-05-18T13:26:39.993133Z",
     "shell.execute_reply.started": "2024-05-18T13:26:39.981758Z"
    }
   },
   "outputs": [],
   "source": [
    "to_eval = df[df.cos_sim1.notna()].sort_values(by='ctr')"
   ]
  },
  {
   "cell_type": "code",
   "execution_count": null,
   "metadata": {
    "execution": {
     "iopub.execute_input": "2024-05-18T13:26:49.677253Z",
     "iopub.status.busy": "2024-05-18T13:26:49.676877Z",
     "iopub.status.idle": "2024-05-18T13:26:50.013095Z",
     "shell.execute_reply": "2024-05-18T13:26:50.012230Z",
     "shell.execute_reply.started": "2024-05-18T13:26:49.677221Z"
    }
   },
   "outputs": [],
   "source": [
    "import matplotlib.pyplot as plt\n",
    "\n",
    "y = to_eval.ctr.tolist()\n",
    "x = list(range(len(y)))\n",
    "\n",
    "plt.scatter(x, y, color='green', s=1)#, marker='o', markersize=1)\n",
    "\n",
    "y = np.array(to_eval.cos_sim1.tolist()) / 25\n",
    "x = list(range(len(y)))\n",
    "\n",
    "plt.scatter(x, y, color='red', s=1)\n",
    "\n",
    "plt.show()"
   ]
  },
  {
   "cell_type": "code",
   "execution_count": null,
   "metadata": {
    "execution": {
     "iopub.execute_input": "2024-05-18T13:27:31.545488Z",
     "iopub.status.busy": "2024-05-18T13:27:31.545138Z",
     "iopub.status.idle": "2024-05-18T13:27:31.753472Z",
     "shell.execute_reply": "2024-05-18T13:27:31.752567Z",
     "shell.execute_reply.started": "2024-05-18T13:27:31.545459Z"
    }
   },
   "outputs": [],
   "source": [
    "y = to_eval.ctr.tolist()\n",
    "x = np.array(to_eval.cos_sim1.tolist())\n",
    "\n",
    "plt.scatter(x, y, color='green', s=1)#, marker='o', markersize=1)\n",
    "\n",
    "plt.show()"
   ]
  },
  {
   "cell_type": "code",
   "execution_count": null,
   "metadata": {
    "execution": {
     "iopub.execute_input": "2024-05-18T13:27:55.748290Z",
     "iopub.status.busy": "2024-05-18T13:27:55.747943Z",
     "iopub.status.idle": "2024-05-18T13:27:55.760796Z",
     "shell.execute_reply": "2024-05-18T13:27:55.759764Z",
     "shell.execute_reply.started": "2024-05-18T13:27:55.748265Z"
    }
   },
   "outputs": [],
   "source": [
    "from sklearn.metrics import ndcg_score #https://scikit-learn.org/stable/modules/generated/sklearn.metrics.ndcg_score.html\n",
    "\n",
    "y = to_eval.ctr.tolist()\n",
    "x = to_eval.cos_sim1.tolist()\n",
    "\n",
    "true_relevance = np.asarray([y])\n",
    "scores = np.asarray([x])\n",
    "res = ndcg_score(true_relevance, scores, k=100)\n",
    "res"
   ]
  },
  {
   "cell_type": "code",
   "execution_count": null,
   "metadata": {},
   "outputs": [],
   "source": []
  },
  {
   "cell_type": "code",
   "execution_count": null,
   "metadata": {
    "execution": {
     "iopub.execute_input": "2024-05-18T13:25:52.706287Z",
     "iopub.status.busy": "2024-05-18T13:25:52.705582Z",
     "iopub.status.idle": "2024-05-18T13:25:52.725844Z",
     "shell.execute_reply": "2024-05-18T13:25:52.724906Z",
     "shell.execute_reply.started": "2024-05-18T13:25:52.706252Z"
    }
   },
   "outputs": [],
   "source": [
    "from copy import deepcopy\n",
    "\n",
    "random_df = deepcopy(df[df.cos_sim1.notna()])\n",
    "true_relevance = np.asarray([random_df.ctr.tolist()])\n",
    "\n",
    "#scores = np.asarray([test_df2.cos_sim.tolist()])\n",
    "scores = random_df.cos_sim1.to_numpy()\n",
    "index = np.random.choice(scores.shape[0], 100, replace=False)\n",
    "scores[:] = 0\n",
    "scores[index] = 1\n",
    "scores = scores.reshape((1, -1))\n",
    "\n",
    "res = ndcg_score(true_relevance, scores, k=100)\n",
    "res"
   ]
  },
  {
   "cell_type": "code",
   "execution_count": null,
   "metadata": {},
   "outputs": [],
   "source": []
  },
  {
   "cell_type": "code",
   "execution_count": null,
   "metadata": {},
   "outputs": [],
   "source": []
  },
  {
   "cell_type": "code",
   "execution_count": null,
   "metadata": {
    "execution": {
     "iopub.execute_input": "2024-05-18T13:38:27.305333Z",
     "iopub.status.busy": "2024-05-18T13:38:27.304718Z",
     "iopub.status.idle": "2024-05-18T13:38:27.316250Z",
     "shell.execute_reply": "2024-05-18T13:38:27.315413Z",
     "shell.execute_reply.started": "2024-05-18T13:38:27.305298Z"
    }
   },
   "outputs": [],
   "source": [
    "t = tokenizer(text, padding=True, truncation=True, return_tensors='pt')\n",
    "t['input_ids'].shape"
   ]
  },
  {
   "cell_type": "code",
   "execution_count": null,
   "metadata": {
    "execution": {
     "iopub.execute_input": "2024-05-18T13:39:07.706804Z",
     "iopub.status.busy": "2024-05-18T13:39:07.705975Z",
     "iopub.status.idle": "2024-05-18T13:39:07.712428Z",
     "shell.execute_reply": "2024-05-18T13:39:07.711387Z",
     "shell.execute_reply.started": "2024-05-18T13:39:07.706763Z"
    }
   },
   "outputs": [],
   "source": [
    "for k, v in t.items():\n",
    "    print(k)\n",
    "    print(v.shape)\n",
    "    #print(v[:, :512].shape)\n",
    "    "
   ]
  },
  {
   "cell_type": "code",
   "execution_count": null,
   "metadata": {
    "execution": {
     "iopub.execute_input": "2024-05-18T13:41:27.856621Z",
     "iopub.status.busy": "2024-05-18T13:41:27.856272Z",
     "iopub.status.idle": "2024-05-18T13:41:27.873635Z",
     "shell.execute_reply": "2024-05-18T13:41:27.872910Z",
     "shell.execute_reply.started": "2024-05-18T13:41:27.856591Z"
    }
   },
   "outputs": [],
   "source": [
    "with torch.no_grad():\n",
    "    model_output = model(**{k: v[:, :512].to(model.device) for k, v in t.items()})"
   ]
  },
  {
   "cell_type": "code",
   "execution_count": null,
   "metadata": {
    "execution": {
     "iopub.execute_input": "2024-05-18T13:36:58.778828Z",
     "iopub.status.busy": "2024-05-18T13:36:58.778131Z",
     "iopub.status.idle": "2024-05-18T13:36:58.784288Z",
     "shell.execute_reply": "2024-05-18T13:36:58.783295Z",
     "shell.execute_reply.started": "2024-05-18T13:36:58.778798Z"
    }
   },
   "outputs": [],
   "source": [
    "len(text)"
   ]
  },
  {
   "cell_type": "code",
   "execution_count": null,
   "metadata": {
    "execution": {
     "iopub.execute_input": "2024-05-18T13:36:59.577196Z",
     "iopub.status.busy": "2024-05-18T13:36:59.576547Z",
     "iopub.status.idle": "2024-05-18T13:36:59.755876Z",
     "shell.execute_reply": "2024-05-18T13:36:59.754580Z",
     "shell.execute_reply.started": "2024-05-18T13:36:59.577166Z"
    }
   },
   "outputs": [],
   "source": [
    "text = to_eval.site_text.to_list()[0]\n",
    "embed_bert_cls(text, model, tokenizer)"
   ]
  },
  {
   "cell_type": "markdown",
   "metadata": {},
   "source": [
    "## rubert-base-cased encode 2"
   ]
  },
  {
   "cell_type": "code",
   "execution_count": null,
   "metadata": {
    "execution": {
     "iopub.execute_input": "2024-05-18T13:45:33.429974Z",
     "iopub.status.busy": "2024-05-18T13:45:33.429067Z",
     "iopub.status.idle": "2024-05-18T13:45:33.448788Z",
     "shell.execute_reply": "2024-05-18T13:45:33.447917Z",
     "shell.execute_reply.started": "2024-05-18T13:45:33.429941Z"
    }
   },
   "outputs": [],
   "source": [
    "def embed_bert_cls2(text, model, tokenizer):\n",
    "    t = tokenizer(text, padding=True, truncation=True, return_tensors='pt')\n",
    "    with torch.no_grad():\n",
    "        model_output = model(**{k: v[:, :512].to(model.device) for k, v in t.items()})\n",
    "    embeddings = model_output.last_hidden_state[:, 0, :]\n",
    "    embeddings = torch.nn.functional.normalize(embeddings)\n",
    "    return embeddings[0].cpu().numpy()\n",
    "\n",
    "print(embed_bert_cls('привет мир! Как житуха, как дела?', model, tokenizer).shape )"
   ]
  },
  {
   "cell_type": "code",
   "execution_count": null,
   "metadata": {
    "execution": {
     "iopub.execute_input": "2024-05-18T13:45:33.578195Z",
     "iopub.status.busy": "2024-05-18T13:45:33.577900Z",
     "iopub.status.idle": "2024-05-18T13:45:33.606564Z",
     "shell.execute_reply": "2024-05-18T13:45:33.605637Z",
     "shell.execute_reply.started": "2024-05-18T13:45:33.578171Z"
    }
   },
   "outputs": [],
   "source": [
    "import numpy as np\n",
    "from math import sqrt\n",
    "text1 = \"чайники оченьхорошая штука и сегодня мы вам расскажем почему именно чайники о почему именно чайники оченьхорошая ш чайники оченьхорошая штука и сегодня мы вам расскажем почему именно\"\n",
    "text2 = \"сегодня я с женой ходил покупать чайник\"\n",
    "vector1 = np.array(embed_bert_cls2(text1, model, tokenizer))\n",
    "vector2 = np.array(embed_bert_cls2(text2, model, tokenizer)) \n",
    "print(f\"{np.dot(vector1, vector2)/sqrt(np.dot(vector1, vector1)* np.dot(vector2, vector2))}\")"
   ]
  },
  {
   "cell_type": "code",
   "execution_count": null,
   "metadata": {
    "execution": {
     "iopub.execute_input": "2024-05-18T13:45:50.289539Z",
     "iopub.status.busy": "2024-05-18T13:45:50.288887Z",
     "iopub.status.idle": "2024-05-18T13:49:18.713803Z",
     "shell.execute_reply": "2024-05-18T13:49:18.712836Z",
     "shell.execute_reply.started": "2024-05-18T13:45:50.289505Z"
    }
   },
   "outputs": [],
   "source": [
    "from tqdm import tqdm, tqdm_pandas\n",
    "tqdm.pandas()\n",
    "\n",
    "df['st_base2'] = None\n",
    "df.loc[df.site_text.notna(), 'st_base2'] = df[df.site_text.notna()]['site_text'].progress_apply(lambda x: np.array(embed_bert_cls2(x, model, tokenizer)))"
   ]
  },
  {
   "cell_type": "code",
   "execution_count": null,
   "metadata": {
    "execution": {
     "iopub.execute_input": "2024-05-18T13:49:18.715714Z",
     "iopub.status.busy": "2024-05-18T13:49:18.715397Z",
     "iopub.status.idle": "2024-05-18T13:52:50.443775Z",
     "shell.execute_reply": "2024-05-18T13:52:50.442760Z",
     "shell.execute_reply.started": "2024-05-18T13:49:18.715688Z"
    }
   },
   "outputs": [],
   "source": [
    "from tqdm import tqdm, tqdm_pandas\n",
    "tqdm.pandas()\n",
    "\n",
    "df['at_base2'] = None\n",
    "df.loc[df.ad_text.notna(), 'at_base2'] = df[df.ad_text.notna()]['ad_text'].progress_apply(lambda x: np.array(embed_bert_cls2(x, model, tokenizer)))\n",
    "df.head(1)"
   ]
  },
  {
   "cell_type": "code",
   "execution_count": null,
   "metadata": {
    "execution": {
     "iopub.execute_input": "2024-05-18T13:52:50.445545Z",
     "iopub.status.busy": "2024-05-18T13:52:50.445276Z",
     "iopub.status.idle": "2024-05-18T13:52:52.632842Z",
     "shell.execute_reply": "2024-05-18T13:52:52.631988Z",
     "shell.execute_reply.started": "2024-05-18T13:52:50.445521Z"
    }
   },
   "outputs": [],
   "source": [
    "from sklearn.metrics.pairwise import cosine_similarity as cos_sim\n",
    "\n",
    "import warnings\n",
    "warnings.filterwarnings('ignore')\n",
    "\n",
    "df['cos_sim2'] = None\n",
    "df.loc[df.st_base2.notna() & df.at_base2.notna(), 'cos_sim2'] = df[df.st_base2.notna() & df.at_base2.notna()][['st_base2', 'at_base2']].apply(lambda x: cos_sim([x[0]], [x[1]])[0][0], axis=1)\n",
    "df.head(1)"
   ]
  },
  {
   "cell_type": "code",
   "execution_count": null,
   "metadata": {
    "execution": {
     "iopub.execute_input": "2024-05-18T13:54:53.907279Z",
     "iopub.status.busy": "2024-05-18T13:54:53.906529Z",
     "iopub.status.idle": "2024-05-18T13:54:53.920517Z",
     "shell.execute_reply": "2024-05-18T13:54:53.919637Z",
     "shell.execute_reply.started": "2024-05-18T13:54:53.907246Z"
    }
   },
   "outputs": [],
   "source": [
    "to_eval2 = df[df.cos_sim2.notna()].sort_values(by='ctr')"
   ]
  },
  {
   "cell_type": "code",
   "execution_count": null,
   "metadata": {
    "execution": {
     "iopub.execute_input": "2024-05-18T13:54:55.539285Z",
     "iopub.status.busy": "2024-05-18T13:54:55.538569Z",
     "iopub.status.idle": "2024-05-18T13:54:55.815147Z",
     "shell.execute_reply": "2024-05-18T13:54:55.814268Z",
     "shell.execute_reply.started": "2024-05-18T13:54:55.539251Z"
    }
   },
   "outputs": [],
   "source": [
    "import matplotlib.pyplot as plt\n",
    "\n",
    "y = to_eval2.ctr.tolist()\n",
    "x = list(range(len(y)))\n",
    "\n",
    "plt.scatter(x, y, color='green', s=1)#, marker='o', markersize=1)\n",
    "\n",
    "y = np.array(to_eval2.cos_sim2.tolist()) / 25\n",
    "x = list(range(len(y)))\n",
    "\n",
    "plt.scatter(x, y, color='red', s=1)\n",
    "\n",
    "plt.show()"
   ]
  },
  {
   "cell_type": "code",
   "execution_count": null,
   "metadata": {
    "execution": {
     "iopub.execute_input": "2024-05-18T13:55:02.908317Z",
     "iopub.status.busy": "2024-05-18T13:55:02.907568Z",
     "iopub.status.idle": "2024-05-18T13:55:02.919743Z",
     "shell.execute_reply": "2024-05-18T13:55:02.918731Z",
     "shell.execute_reply.started": "2024-05-18T13:55:02.908285Z"
    }
   },
   "outputs": [],
   "source": [
    "from sklearn.metrics import ndcg_score #https://scikit-learn.org/stable/modules/generated/sklearn.metrics.ndcg_score.html\n",
    "\n",
    "y = to_eval2.ctr.tolist()\n",
    "x = to_eval2.cos_sim2.tolist()\n",
    "\n",
    "true_relevance = np.asarray([y])\n",
    "scores = np.asarray([x])\n",
    "res = ndcg_score(true_relevance, scores, k=100)\n",
    "res"
   ]
  },
  {
   "cell_type": "code",
   "execution_count": null,
   "metadata": {
    "execution": {
     "iopub.execute_input": "2024-05-18T14:04:56.990974Z",
     "iopub.status.busy": "2024-05-18T14:04:56.989692Z",
     "iopub.status.idle": "2024-05-18T14:05:06.091761Z",
     "shell.execute_reply": "2024-05-18T14:05:06.090878Z",
     "shell.execute_reply.started": "2024-05-18T14:04:56.990929Z"
    }
   },
   "outputs": [],
   "source": [
    "df.to_json('###')"
   ]
  },
  {
   "cell_type": "markdown",
   "metadata": {},
   "source": [
    "## rubert-base-cased encode 3"
   ]
  },
  {
   "cell_type": "code",
   "execution_count": null,
   "metadata": {
    "execution": {
     "iopub.execute_input": "2024-05-18T13:58:57.227401Z",
     "iopub.status.busy": "2024-05-18T13:58:57.226717Z",
     "iopub.status.idle": "2024-05-18T13:58:57.251451Z",
     "shell.execute_reply": "2024-05-18T13:58:57.250612Z",
     "shell.execute_reply.started": "2024-05-18T13:58:57.227368Z"
    }
   },
   "outputs": [],
   "source": [
    "df.head(1)"
   ]
  },
  {
   "cell_type": "code",
   "execution_count": null,
   "metadata": {
    "execution": {
     "iopub.execute_input": "2024-05-18T14:02:16.154989Z",
     "iopub.status.busy": "2024-05-18T14:02:16.154220Z",
     "iopub.status.idle": "2024-05-18T14:02:16.158968Z",
     "shell.execute_reply": "2024-05-18T14:02:16.158091Z",
     "shell.execute_reply.started": "2024-05-18T14:02:16.154939Z"
    }
   },
   "outputs": [],
   "source": [
    "#df.site_text.to_list()[:100]"
   ]
  },
  {
   "cell_type": "code",
   "execution_count": null,
   "metadata": {
    "execution": {
     "iopub.execute_input": "2024-05-18T14:03:06.200700Z",
     "iopub.status.busy": "2024-05-18T14:03:06.200340Z",
     "iopub.status.idle": "2024-05-18T14:03:06.206554Z",
     "shell.execute_reply": "2024-05-18T14:03:06.205723Z",
     "shell.execute_reply.started": "2024-05-18T14:03:06.200668Z"
    }
   },
   "outputs": [],
   "source": [
    "t['input_ids'].shape"
   ]
  },
  {
   "cell_type": "code",
   "execution_count": null,
   "metadata": {},
   "outputs": [],
   "source": []
  },
  {
   "cell_type": "code",
   "execution_count": null,
   "metadata": {},
   "outputs": [],
   "source": [
    "def embed_bert_cls2(text, model, tokenizer):\n",
    "    t = tokenizer(text, padding=True, truncation=True, return_tensors='pt')\n",
    "    with torch.no_grad():\n",
    "        model_output = model(**{k: v[:, :512].to(model.device) for k, v in t.items()})\n",
    "    embeddings = model_output.last_hidden_state[:, 0, :]\n",
    "    embeddings = torch.nn.functional.normalize(embeddings)\n",
    "    return embeddings[0].cpu().numpy()\n",
    "\n",
    "print(embed_bert_cls('привет мир! Как житуха, как дела?', model, tokenizer).shape )"
   ]
  },
  {
   "cell_type": "code",
   "execution_count": null,
   "metadata": {
    "execution": {
     "iopub.execute_input": "2024-05-18T14:11:52.734610Z",
     "iopub.status.busy": "2024-05-18T14:11:52.734229Z",
     "iopub.status.idle": "2024-05-18T14:11:52.757101Z",
     "shell.execute_reply": "2024-05-18T14:11:52.756225Z",
     "shell.execute_reply.started": "2024-05-18T14:11:52.734577Z"
    }
   },
   "outputs": [],
   "source": [
    "def embed_bert_cls3(text, model, tokenizer, max_length=512):\n",
    "    tokens = tokenizer(text, padding=False, truncation=False, return_tensors='pt')\n",
    "    input_ids = tokens['input_ids'][0]\n",
    "    attention_mask = tokens['attention_mask'][0]\n",
    "    \n",
    "    num_chunks = (len(input_ids) + max_length - 1) // max_length  # вычисляем количество частей\n",
    "    \n",
    "    embeddings = []\n",
    "    with torch.no_grad():\n",
    "        for i in range(num_chunks):\n",
    "            chunk_input_ids = input_ids[i * max_length: (i + 1) * max_length].unsqueeze(0).to(model.device)\n",
    "            chunk_attention_mask = attention_mask[i * max_length: (i + 1) * max_length].unsqueeze(0).to(model.device)\n",
    "            \n",
    "            model_output = model(input_ids=chunk_input_ids, attention_mask=chunk_attention_mask)\n",
    "            chunk_embedding = model_output.last_hidden_state[:, 0, :]\n",
    "            embeddings.append(chunk_embedding)\n",
    "    \n",
    "    # Суммируем все полученные CLS токены и нормализуем\n",
    "    total_embedding = torch.sum(torch.stack(embeddings), dim=0)\n",
    "    total_embedding = torch.nn.functional.normalize(total_embedding)\n",
    "    \n",
    "    return total_embedding[0].cpu().numpy()\n",
    "\n",
    "# Пример использования\n",
    "text = \"Твой текст здесь\"\n",
    "embedding = embed_bert_cls3(text, model, tokenizer)\n",
    "print(embedding.shape)\n"
   ]
  },
  {
   "cell_type": "code",
   "execution_count": null,
   "metadata": {
    "execution": {
     "iopub.execute_input": "2024-05-18T14:14:21.623325Z",
     "iopub.status.busy": "2024-05-18T14:14:21.622752Z",
     "iopub.status.idle": "2024-05-18T14:14:21.629570Z",
     "shell.execute_reply": "2024-05-18T14:14:21.628612Z",
     "shell.execute_reply.started": "2024-05-18T14:14:21.623294Z"
    }
   },
   "outputs": [],
   "source": [
    "len(df.loc[32615].site_text)"
   ]
  },
  {
   "cell_type": "code",
   "execution_count": null,
   "metadata": {
    "execution": {
     "iopub.execute_input": "2024-05-18T14:15:24.007105Z",
     "iopub.status.busy": "2024-05-18T14:15:24.006672Z",
     "iopub.status.idle": "2024-05-18T14:15:24.142411Z",
     "shell.execute_reply": "2024-05-18T14:15:24.141374Z",
     "shell.execute_reply.started": "2024-05-18T14:15:24.007054Z"
    }
   },
   "outputs": [],
   "source": [
    "text = df.loc[32615].site_text\n",
    "embedding = embed_bert_cls3(text, model, tokenizer)\n",
    "print(embedding.shape)"
   ]
  },
  {
   "cell_type": "code",
   "execution_count": null,
   "metadata": {
    "execution": {
     "iopub.execute_input": "2024-05-18T14:15:29.611163Z",
     "iopub.status.busy": "2024-05-18T14:15:29.610789Z",
     "iopub.status.idle": "2024-05-18T14:15:29.640023Z",
     "shell.execute_reply": "2024-05-18T14:15:29.639139Z",
     "shell.execute_reply.started": "2024-05-18T14:15:29.611128Z"
    }
   },
   "outputs": [],
   "source": [
    "import numpy as np\n",
    "from math import sqrt\n",
    "text1 = \"чайники оченьхорошая штука и сегодня мы вам расскажем почему именно чайники о почему именно чайники оченьхорошая ш чайники оченьхорошая штука и сегодня мы вам расскажем почему именно\"\n",
    "text2 = \"сегодня я с женой ходил покупать чайник\"\n",
    "vector1 = np.array(embed_bert_cls3(text1, model, tokenizer))\n",
    "vector2 = np.array(embed_bert_cls3(text2, model, tokenizer)) \n",
    "print(f\"{np.dot(vector1, vector2)/sqrt(np.dot(vector1, vector1)* np.dot(vector2, vector2))}\")"
   ]
  },
  {
   "cell_type": "code",
   "execution_count": null,
   "metadata": {},
   "outputs": [],
   "source": []
  },
  {
   "cell_type": "code",
   "execution_count": null,
   "metadata": {
    "execution": {
     "iopub.execute_input": "2024-05-18T14:23:34.371950Z",
     "iopub.status.busy": "2024-05-18T14:23:34.371118Z",
     "iopub.status.idle": "2024-05-18T14:42:59.559126Z",
     "shell.execute_reply": "2024-05-18T14:42:59.558126Z",
     "shell.execute_reply.started": "2024-05-18T14:23:34.371917Z"
    }
   },
   "outputs": [],
   "source": [
    "import warnings\n",
    "warnings.filterwarnings('ignore')\n",
    "\n",
    "df['st_base3'] = None\n",
    "df.loc[df.site_text.notna(), 'st_base3'] = df[df.site_text.notna()]['site_text'].progress_apply(lambda x: np.array(embed_bert_cls3(x, model, tokenizer)))\n",
    "\n",
    "\n",
    "df['at_base3'] = None\n",
    "df.loc[df.ad_text.notna(), 'at_base3'] = df[df.ad_text.notna()]['ad_text'].progress_apply(lambda x: np.array(embed_bert_cls3(x, model, tokenizer)))\n",
    "\n",
    "\n",
    "df['cos_sim3'] = None\n",
    "df.loc[df.st_base3.notna() & df.at_base3.notna(), 'cos_sim3'] = df[df.st_base3.notna() & df.at_base3.notna()][['st_base3', 'at_base3']].apply(lambda x: cos_sim([x[0]], [x[1]])[0][0], axis=1)\n",
    "df.head(1)"
   ]
  },
  {
   "cell_type": "code",
   "execution_count": null,
   "metadata": {
    "execution": {
     "iopub.execute_input": "2024-05-18T14:45:13.506458Z",
     "iopub.status.busy": "2024-05-18T14:45:13.505576Z",
     "iopub.status.idle": "2024-05-18T14:45:13.520861Z",
     "shell.execute_reply": "2024-05-18T14:45:13.519893Z",
     "shell.execute_reply.started": "2024-05-18T14:45:13.506424Z"
    }
   },
   "outputs": [],
   "source": [
    "to_eval3 = df[df.cos_sim3.notna()].sort_values(by='ctr')"
   ]
  },
  {
   "cell_type": "code",
   "execution_count": null,
   "metadata": {
    "execution": {
     "iopub.execute_input": "2024-05-18T14:45:18.706548Z",
     "iopub.status.busy": "2024-05-18T14:45:18.705711Z",
     "iopub.status.idle": "2024-05-18T14:45:19.044086Z",
     "shell.execute_reply": "2024-05-18T14:45:19.043202Z",
     "shell.execute_reply.started": "2024-05-18T14:45:18.706516Z"
    }
   },
   "outputs": [],
   "source": [
    "import matplotlib.pyplot as plt\n",
    "\n",
    "y = to_eval3.ctr.tolist()\n",
    "x = list(range(len(y)))\n",
    "\n",
    "plt.scatter(x, y, color='green', s=1)#, marker='o', markersize=1)\n",
    "\n",
    "y = np.array(to_eval3.cos_sim3.tolist()) / 25\n",
    "x = list(range(len(y)))\n",
    "\n",
    "plt.scatter(x, y, color='red', s=1)\n",
    "\n",
    "plt.show()"
   ]
  },
  {
   "cell_type": "code",
   "execution_count": null,
   "metadata": {
    "execution": {
     "iopub.execute_input": "2024-05-18T14:45:23.621562Z",
     "iopub.status.busy": "2024-05-18T14:45:23.620749Z",
     "iopub.status.idle": "2024-05-18T14:45:23.632505Z",
     "shell.execute_reply": "2024-05-18T14:45:23.631584Z",
     "shell.execute_reply.started": "2024-05-18T14:45:23.621527Z"
    }
   },
   "outputs": [],
   "source": [
    "from sklearn.metrics import ndcg_score #https://scikit-learn.org/stable/modules/generated/sklearn.metrics.ndcg_score.html\n",
    "\n",
    "y = to_eval3.ctr.tolist()\n",
    "x = to_eval3.cos_sim3.tolist()\n",
    "\n",
    "true_relevance = np.asarray([y])\n",
    "scores = np.asarray([x])\n",
    "res = ndcg_score(true_relevance, scores, k=100)\n",
    "res"
   ]
  },
  {
   "cell_type": "code",
   "execution_count": null,
   "metadata": {
    "execution": {
     "iopub.execute_input": "2024-05-18T14:45:30.384807Z",
     "iopub.status.busy": "2024-05-18T14:45:30.384451Z",
     "iopub.status.idle": "2024-05-18T14:45:42.534546Z",
     "shell.execute_reply": "2024-05-18T14:45:42.533754Z",
     "shell.execute_reply.started": "2024-05-18T14:45:30.384777Z"
    }
   },
   "outputs": [],
   "source": [
    "df.to_json('###')"
   ]
  },
  {
   "cell_type": "markdown",
   "metadata": {},
   "source": [
    "## rubert-base-cased encode 3 mean"
   ]
  },
  {
   "cell_type": "code",
   "execution_count": 4,
   "metadata": {
    "execution": {
     "iopub.execute_input": "2024-05-27T10:57:10.766256Z",
     "iopub.status.busy": "2024-05-27T10:57:10.765281Z",
     "iopub.status.idle": "2024-05-27T10:57:28.398390Z",
     "shell.execute_reply": "2024-05-27T10:57:28.397557Z",
     "shell.execute_reply.started": "2024-05-27T10:57:10.766221Z"
    }
   },
   "outputs": [],
   "source": [
    "import pandas as pd\n",
    "\n",
    "df = pd.read_json('####')"
   ]
  },
  {
   "cell_type": "code",
   "execution_count": null,
   "metadata": {},
   "outputs": [],
   "source": [
    "df['st_base3_mean'] = None"
   ]
  },
  {
   "cell_type": "code",
   "execution_count": 12,
   "metadata": {
    "execution": {
     "iopub.execute_input": "2024-05-27T11:03:54.365788Z",
     "iopub.status.busy": "2024-05-27T11:03:54.365429Z",
     "iopub.status.idle": "2024-05-27T11:03:54.586842Z",
     "shell.execute_reply": "2024-05-27T11:03:54.585948Z",
     "shell.execute_reply.started": "2024-05-27T11:03:54.365760Z"
    }
   },
   "outputs": [
    {
     "name": "stdout",
     "output_type": "stream",
     "text": [
      "(768,)\n"
     ]
    }
   ],
   "source": [
    "def embed_bert_cls4(text, model, tokenizer, max_length=512):\n",
    "    tokens = tokenizer(text, padding=False, truncation=False, return_tensors='pt')\n",
    "    input_ids = tokens['input_ids'][0]\n",
    "    attention_mask = tokens['attention_mask'][0]\n",
    "    \n",
    "    num_chunks = (len(input_ids) + max_length - 1) // max_length  # вычисляем количество частей\n",
    "    \n",
    "    embeddings = []\n",
    "    with torch.no_grad():\n",
    "        for i in range(num_chunks):\n",
    "            chunk_input_ids = input_ids[i * max_length: (i + 1) * max_length].unsqueeze(0).to(model.device)\n",
    "            chunk_attention_mask = attention_mask[i * max_length: (i + 1) * max_length].unsqueeze(0).to(model.device)\n",
    "            \n",
    "            model_output = model(input_ids=chunk_input_ids, attention_mask=chunk_attention_mask)\n",
    "            chunk_embedding = model_output.last_hidden_state[:, 0, :]\n",
    "            embeddings.append(chunk_embedding)\n",
    "    \n",
    "    # Суммируем все полученные CLS токены и нормализуем\n",
    "    total_embedding = torch.mean(torch.stack(embeddings), dim=0)\n",
    "    total_embedding = torch.nn.functional.normalize(total_embedding)\n",
    "    \n",
    "    return total_embedding[0].cpu().numpy()\n",
    "\n",
    "# Пример использования\n",
    "text = \"Твой текст здесь Твой текст здесь Твой текст здесь Твой текст здесь Твой текст здесь Твой текст здесь Твой текст здесь Твой текст здесь Твой текст здесь Твой текст здесь Твой текст здесь Твой текст здесь Твой текст здесь Твой текст здесь Твой текст здесь Твой текст здесь Твой текст здесь Твой текст здесь Твой текст здесь Твой текст здесь Твой текст здесь Твой текст здесь Твой текст здесь Твой текст здесь Твой текст здесь Твой текст здесь Твой текст здесь Твой текст здесь Твой текст здесь Твой текст здесь Твой текст здесь Твой текст здесьТвой текст здесь Твой текст здесь Твой текст здесь Твой текст здесь Твой текст здесь Твой текст здесь Твой текст здесь Твой текст здесь Твой текст здесь Твой текст здесь Твой текст здесь Твой текст здесь Твой текст здесь Твой текст здесь Твой текст здесь Твой текст здесьТвой текст здесь Твой текст здесь Твой текст здесь Твой текст здесь Твой текст здесь Твой текст здесь Твой текст здесь Твой текст здесь Твой текст здесь Твой текст здесь Твой текст здесь Твой текст здесь Твой текст здесь Твой текст здесь Твой текст здесь Твой текст здесьТвой текст здесь Твой текст здесь Твой текст здесь Твой текст здесь Твой текст здесь Твой текст здесь Твой текст здесь Твой текст здесь Твой текст здесь Твой текст здесь Твой текст здесь Твой текст здесь Твой текст здесь Твой текст здесь Твой текст здесь Твой текст здесьТвой текст здесь Твой текст здесь Твой текст здесь Твой текст здесь Твой текст здесь Твой текст здесь Твой текст здесь Твой текст здесь Твой текст здесь Твой текст здесь Твой текст здесь Твой текст здесь Твой текст здесь Твой текст здесь Твой текст здесь Твой текст здесьТвой текст здесь Твой текст здесь Твой текст здесь Твой текст здесь Твой текст здесь Твой текст здесь Твой текст здесь Твой текст здесь Твой текст здесь Твой текст здесь Твой текст здесь Твой текст здесь Твой текст здесь Твой текст здесь Твой текст здесь Твой текст здесьТвой текст здесь Твой текст здесь Твой текст здесь Твой текст здесь Твой текст здесь Твой текст здесь Твой текст здесь Твой текст здесь Твой текст здесь Твой текст здесь Твой текст здесь Твой текст здесь Твой текст здесь Твой текст здесь Твой текст здесь Твой текст здесьТвой текст здесь Твой текст здесь Твой текст здесь Твой текст здесь Твой текст здесь Твой текст здесь Твой текст здесь Твой текст здесь Твой текст здесь Твой текст здесь Твой текст здесь Твой текст здесь Твой текст здесь Твой текст здесь Твой текст здесь Твой текст здесьТвой текст здесь Твой текст здесь Твой текст здесь Твой текст здесь Твой текст здесь Твой текст здесь Твой текст здесь Твой текст здесь Твой текст здесь Твой текст здесь Твой текст здесь Твой текст здесь Твой текст здесь Твой текст здесь Твой текст здесь Твой текст здесьТвой текст здесь Твой текст здесь Твой текст здесь Твой текст здесь Твой текст здесь Твой текст здесь Твой текст здесь Твой текст здесь Твой текст здесь Твой текст здесь Твой текст здесь Твой текст здесь Твой текст здесь Твой текст здесь Твой текст здесь Твой текст здесьТвой текст здесь Твой текст здесь Твой текст здесь Твой текст здесь Твой текст здесь Твой текст здесь Твой текст здесь Твой текст здесь Твой текст здесь Твой текст здесь Твой текст здесь Твой текст здесь Твой текст здесь Твой текст здесь Твой текст здесь Твой текст здесьТвой текст здесь Твой текст здесь Твой текст здесь Твой текст здесь Твой текст здесь Твой текст здесь Твой текст здесь Твой текст здесь Твой текст здесь Твой текст здесь Твой текст здесь Твой текст здесь Твой текст здесь Твой текст здесь Твой текст здесь Твой текст здесьТвой текст здесь Твой текст здесь Твой текст здесь Твой текст здесь Твой текст здесь Твой текст здесь Твой текст здесь Твой текст здесь Твой текст здесь Твой текст здесь Твой текст здесь Твой текст здесь Твой текст здесь Твой текст здесь Твой текст здесь Твой текст здесьТвой текст здесь Твой текст здесь Твой текст здесь Твой текст здесь Твой текст здесь Твой текст здесь Твой текст здесь Твой текст здесь Твой текст здесь Твой текст здесь Твой текст здесь Твой текст здесь Твой текст здесь Твой текст здесь Твой текст здесь Твой текст здесьТвой текст здесь Твой текст здесь Твой текст здесь Твой текст здесь Твой текст здесь Твой текст здесь Твой текст здесь Твой текст здесь Твой текст здесь Твой текст здесь Твой текст здесь Твой текст здесь Твой текст здесь Твой текст здесь Твой текст здесь Твой текст здесьТвой текст здесь Твой текст здесь Твой текст здесь Твой текст здесь Твой текст здесь Твой текст здесь Твой текст здесь Твой текст здесь Твой текст здесь Твой текст здесь Твой текст здесь Твой текст здесь Твой текст здесь Твой текст здесь Твой текст здесь Твой текст здесьТвой текст здесь Твой текст здесь Твой текст здесь Твой текст здесь Твой текст здесь Твой текст здесь Твой текст здесь Твой текст здесь Твой текст здесь Твой текст здесь Твой текст здесь Твой текст здесь Твой текст здесь Твой текст здесь Твой текст здесь Твой текст здесьТвой текст здесь Твой текст здесь Твой текст здесь Твой текст здесь Твой текст здесь Твой текст здесь Твой текст здесь Твой текст здесь Твой текст здесь Твой текст здесь Твой текст здесь Твой текст здесь Твой текст здесь Твой текст здесь Твой текст здесь Твой текст здесьТвой текст здесь Твой текст здесь Твой текст здесь Твой текст здесь Твой текст здесь Твой текст здесь Твой текст здесь Твой текст здесь Твой текст здесь Твой текст здесь Твой текст здесь Твой текст здесь Твой текст здесь Твой текст здесь Твой текст здесь Твой текст здесьТвой текст здесь Твой текст здесь Твой текст здесь Твой текст здесь Твой текст здесь Твой текст здесь Твой текст здесь Твой текст здесь Твой текст здесь Твой текст здесь Твой текст здесь Твой текст здесь Твой текст здесь Твой текст здесь Твой текст здесь Твой текст здесьТвой текст здесь Твой текст здесь Твой текст здесь Твой текст здесь Твой текст здесь Твой текст здесь Твой текст здесь Твой текст здесь Твой текст здесь Твой текст здесь Твой текст здесь Твой текст здесь Твой текст здесь Твой текст здесь Твой текст здесь Твой текст здесь Твой текст здесь Твой текст здесь Твой текст здесь Твой текст здесь Твой текст здесь Твой текст здесь Твой текст здесь Твой текст здесь Твой текст здесь Твой текст здесь Твой текст здесь Твой текст здесь Твой текст здесь Твой текст здесь Твой текст здесь Твой текст здесь Твой текст здесь Твой текст здесь Твой текст здесь Твой текст здесь Твой текст здесь Твой текст здесь Твой текст здесь Твой текст здесь Твой текст здесь Твой текст здесь Твой текст здесь Твой текст здесь Твой текст здесь Твой текст здесь Твой текст здесь Твой текст здесьТвой текст здесь Твой текст здесь Твой текст здесь Твой текст здесь Твой текст здесь Твой текст здесь Твой текст здесь Твой текст здесь Твой текст здесь Твой текст здесь Твой текст здесь Твой текст здесь Твой текст здесь Твой текст здесь Твой текст здесь Твой текст здесьТвой текст здесь Твой текст здесь Твой текст здесь Твой текст здесь Твой текст здесь Твой текст здесь Твой текст здесь Твой текст здесь Твой текст здесь Твой текст здесь Твой текст здесь Твой текст здесь Твой текст здесь Твой текст здесь Твой текст здесь Твой текст здесьТвой текст здесь Твой текст здесь Твой текст здесь Твой текст здесь Твой текст здесь Твой текст здесь Твой текст здесь Твой текст здесь Твой текст здесь Твой текст здесь Твой текст здесь Твой текст здесь Твой текст здесь Твой текст здесь Твой текст здесь Твой текст здесьТвой текст здесь Твой текст здесь Твой текст здесь Твой текст здесь Твой текст здесь Твой текст здесь Твой текст здесь Твой текст здесь Твой текст здесь Твой текст здесь Твой текст здесь Твой текст здесь Твой текст здесь Твой текст здесь Твой текст здесь Твой текст здесьТвой текст здесь Твой текст здесь Твой текст здесь Твой текст здесь Твой текст здесь Твой текст здесь Твой текст здесь Твой текст здесь Твой текст здесь Твой текст здесь Твой текст здесь Твой текст здесь Твой текст здесь Твой текст здесь Твой текст здесь Твой текст здесьТвой текст здесь Твой текст здесь Твой текст здесь Твой текст здесь Твой текст здесь Твой текст здесь Твой текст здесь Твой текст здесь Твой текст здесь Твой текст здесь Твой текст здесь Твой текст здесь Твой текст здесь Твой текст здесь Твой текст здесь Твой текст здесьТвой текст здесь Твой текст здесь Твой текст здесь Твой текст здесь Твой текст здесь Твой текст здесь Твой текст здесь Твой текст здесь Твой текст здесь Твой текст здесь Твой текст здесь Твой текст здесь Твой текст здесь Твой текст здесь Твой текст здесь Твой текст здесьТвой текст здесь Твой текст здесь Твой текст здесь Твой текст здесь Твой текст здесь Твой текст здесь Твой текст здесь Твой текст здесь Твой текст здесь Твой текст здесь Твой текст здесь Твой текст здесь Твой текст здесь Твой текст здесь Твой текст здесь Твой текст здесьТвой текст здесь Твой текст здесь Твой текст здесь Твой текст здесь Твой текст здесь Твой текст здесь Твой текст здесь Твой текст здесь Твой текст здесь Твой текст здесь Твой текст здесь Твой текст здесь Твой текст здесь Твой текст здесь Твой текст здесь Твой текст здесьТвой текст здесь Твой текст здесь Твой текст здесь Твой текст здесь Твой текст здесь Твой текст здесь Твой текст здесь Твой текст здесь Твой текст здесь Твой текст здесь Твой текст здесь Твой текст здесь Твой текст здесь Твой текст здесь Твой текст здесь Твой текст здесьТвой текст здесь Твой текст здесь Твой текст здесь Твой текст здесь Твой текст здесь Твой текст здесь Твой текст здесь Твой текст здесь Твой текст здесь Твой текст здесь Твой текст здесь Твой текст здесь Твой текст здесь Твой текст здесь Твой текст здесь Твой текст здесьТвой текст здесь Твой текст здесь Твой текст здесь Твой текст здесь Твой текст здесь Твой текст здесь Твой текст здесь Твой текст здесь Твой текст здесь Твой текст здесь Твой текст здесь Твой текст здесь Твой текст здесь Твой текст здесь Твой текст здесь Твой текст здесьТвой текст здесь Твой текст здесь Твой текст здесь Твой текст здесь Твой текст здесь Твой текст здесь Твой текст здесь Твой текст здесь Твой текст здесь Твой текст здесь Твой текст здесь Твой текст здесь Твой текст здесь Твой текст здесь Твой текст здесь Твой текст здесьТвой текст здесь Твой текст здесь Твой текст здесь Твой текст здесь Твой текст здесь Твой текст здесь Твой текст здесь Твой текст здесь Твой текст здесь Твой текст здесь Твой текст здесь Твой текст здесь Твой текст здесь Твой текст здесь Твой текст здесь Твой текст здесьТвой текст здесь Твой текст здесь Твой текст здесь Твой текст здесь Твой текст здесь Твой текст здесь Твой текст здесь Твой текст здесь Твой текст здесь Твой текст здесь Твой текст здесь Твой текст здесь Твой текст здесь Твой текст здесь Твой текст здесь Твой текст здесьТвой текст здесь Твой текст здесь Твой текст здесь Твой текст здесь Твой текст здесь Твой текст здесь Твой текст здесь Твой текст здесь Твой текст здесь Твой текст здесь Твой текст здесь Твой текст здесь Твой текст здесь Твой текст здесь Твой текст здесь Твой текст здесьТвой текст здесь Твой текст здесь Твой текст здесь Твой текст здесь Твой текст здесь Твой текст здесь Твой текст здесь Твой текст здесь Твой текст здесь Твой текст здесь Твой текст здесь Твой текст здесь Твой текст здесь Твой текст здесь Твой текст здесь Твой текст здесьТвой текст здесь Твой текст здесь Твой текст здесь Твой текст здесь Твой текст здесь Твой текст здесь Твой текст здесь Твой текст здесь Твой текст здесь Твой текст здесь Твой текст здесь Твой текст здесь Твой текст здесь Твой текст здесь Твой текст здесь Твой текст здесьТвой текст здесь Твой текст здесь Твой текст здесь Твой текст здесь Твой текст здесь Твой текст здесь Твой текст здесь Твой текст здесь Твой текст здесь Твой текст здесь Твой текст здесь Твой текст здесь Твой текст здесь Твой текст здесь Твой текст здесь Твой текст здесьТвой текст здесь Твой текст здесь Твой текст здесь Твой текст здесь Твой текст здесь Твой текст здесь Твой текст здесь Твой текст здесь Твой текст здесь Твой текст здесь Твой текст здесь Твой текст здесь Твой текст здесь Твой текст здесь Твой текст здесь Твой текст здесь\"\n",
    "embedding = embed_bert_cls4(text, model, tokenizer)\n",
    "print(embedding.shape)\n"
   ]
  },
  {
   "cell_type": "code",
   "execution_count": 17,
   "metadata": {
    "execution": {
     "iopub.execute_input": "2024-05-27T11:04:20.101322Z",
     "iopub.status.busy": "2024-05-27T11:04:20.100668Z",
     "iopub.status.idle": "2024-05-27T11:04:20.358900Z",
     "shell.execute_reply": "2024-05-27T11:04:20.357864Z",
     "shell.execute_reply.started": "2024-05-27T11:04:20.101293Z"
    }
   },
   "outputs": [
    {
     "name": "stdout",
     "output_type": "stream",
     "text": [
      "(768,)\n"
     ]
    }
   ],
   "source": [
    "text = df.loc[32615].site_text\n",
    "embedding = embed_bert_cls4(text, model, tokenizer)\n",
    "print(embedding.shape)"
   ]
  },
  {
   "cell_type": "code",
   "execution_count": 18,
   "metadata": {
    "execution": {
     "iopub.execute_input": "2024-05-27T11:04:40.136095Z",
     "iopub.status.busy": "2024-05-27T11:04:40.135310Z",
     "iopub.status.idle": "2024-05-27T11:04:40.164596Z",
     "shell.execute_reply": "2024-05-27T11:04:40.163699Z",
     "shell.execute_reply.started": "2024-05-27T11:04:40.136065Z"
    }
   },
   "outputs": [
    {
     "name": "stdout",
     "output_type": "stream",
     "text": [
      "0.9042015075683594\n"
     ]
    }
   ],
   "source": [
    "import numpy as np\n",
    "from math import sqrt\n",
    "text1 = \"чайники оченьхорошая штука и сегодня мы вам расскажем почему именно чайники о почему именно чайники оченьхорошая ш чайники оченьхорошая штука и сегодня мы вам расскажем почему именно\"\n",
    "text2 = \"сегодня я с женой ходил покупать чайник\"\n",
    "vector1 = np.array(embed_bert_cls4(text1, model, tokenizer))\n",
    "vector2 = np.array(embed_bert_cls4(text2, model, tokenizer)) \n",
    "print(f\"{np.dot(vector1, vector2)/sqrt(np.dot(vector1, vector1)* np.dot(vector2, vector2))}\")"
   ]
  },
  {
   "cell_type": "code",
   "execution_count": 34,
   "metadata": {
    "execution": {
     "iopub.execute_input": "2024-05-27T11:17:42.436366Z",
     "iopub.status.busy": "2024-05-27T11:17:42.435597Z",
     "iopub.status.idle": "2024-05-27T11:46:10.105235Z",
     "shell.execute_reply": "2024-05-27T11:46:10.103729Z",
     "shell.execute_reply.started": "2024-05-27T11:17:42.436338Z"
    }
   },
   "outputs": [
    {
     "name": "stderr",
     "output_type": "stream",
     "text": [
      "100%|██████████| 7849/7849 [14:49<00:00,  8.83it/s]  \n",
      "100%|██████████| 7765/7765 [13:37<00:00,  9.50it/s]\n"
     ]
    },
    {
     "ename": "NameError",
     "evalue": "name 'cos_sim' is not defined",
     "output_type": "error",
     "traceback": [
      "\u001b[0;31m---------------------------------------------------------------------------\u001b[0m",
      "\u001b[0;31mNameError\u001b[0m                                 Traceback (most recent call last)",
      "Cell \u001b[0;32mIn[34], line 17\u001b[0m\n\u001b[1;32m     13\u001b[0m df\u001b[38;5;241m.\u001b[39mloc[df\u001b[38;5;241m.\u001b[39mad_text\u001b[38;5;241m.\u001b[39mnotna(), \u001b[38;5;124m'\u001b[39m\u001b[38;5;124mat_base3_mean\u001b[39m\u001b[38;5;124m'\u001b[39m] \u001b[38;5;241m=\u001b[39m df[df\u001b[38;5;241m.\u001b[39mad_text\u001b[38;5;241m.\u001b[39mnotna()][\u001b[38;5;124m'\u001b[39m\u001b[38;5;124mad_text\u001b[39m\u001b[38;5;124m'\u001b[39m]\u001b[38;5;241m.\u001b[39mprogress_apply(\u001b[38;5;28;01mlambda\u001b[39;00m x: np\u001b[38;5;241m.\u001b[39marray(embed_bert_cls4(x, model, tokenizer)))\n\u001b[1;32m     16\u001b[0m df[\u001b[38;5;124m'\u001b[39m\u001b[38;5;124mcos_sim3_mean\u001b[39m\u001b[38;5;124m'\u001b[39m] \u001b[38;5;241m=\u001b[39m \u001b[38;5;28;01mNone\u001b[39;00m\n\u001b[0;32m---> 17\u001b[0m df\u001b[38;5;241m.\u001b[39mloc[df\u001b[38;5;241m.\u001b[39mst_base3_mean\u001b[38;5;241m.\u001b[39mnotna() \u001b[38;5;241m&\u001b[39m df\u001b[38;5;241m.\u001b[39mat_base3_mean\u001b[38;5;241m.\u001b[39mnotna(), \u001b[38;5;124m'\u001b[39m\u001b[38;5;124mcos_sim3_mean\u001b[39m\u001b[38;5;124m'\u001b[39m] \u001b[38;5;241m=\u001b[39m \u001b[43mdf\u001b[49m\u001b[43m[\u001b[49m\u001b[43mdf\u001b[49m\u001b[38;5;241;43m.\u001b[39;49m\u001b[43mst_base3_mean\u001b[49m\u001b[38;5;241;43m.\u001b[39;49m\u001b[43mnotna\u001b[49m\u001b[43m(\u001b[49m\u001b[43m)\u001b[49m\u001b[43m \u001b[49m\u001b[38;5;241;43m&\u001b[39;49m\u001b[43m \u001b[49m\u001b[43mdf\u001b[49m\u001b[38;5;241;43m.\u001b[39;49m\u001b[43mat_base3_mean\u001b[49m\u001b[38;5;241;43m.\u001b[39;49m\u001b[43mnotna\u001b[49m\u001b[43m(\u001b[49m\u001b[43m)\u001b[49m\u001b[43m]\u001b[49m\u001b[43m[\u001b[49m\u001b[43m[\u001b[49m\u001b[38;5;124;43m'\u001b[39;49m\u001b[38;5;124;43mst_base3_mean\u001b[39;49m\u001b[38;5;124;43m'\u001b[39;49m\u001b[43m,\u001b[49m\u001b[43m \u001b[49m\u001b[38;5;124;43m'\u001b[39;49m\u001b[38;5;124;43mat_base3_mean\u001b[39;49m\u001b[38;5;124;43m'\u001b[39;49m\u001b[43m]\u001b[49m\u001b[43m]\u001b[49m\u001b[38;5;241;43m.\u001b[39;49m\u001b[43mapply\u001b[49m\u001b[43m(\u001b[49m\u001b[38;5;28;43;01mlambda\u001b[39;49;00m\u001b[43m \u001b[49m\u001b[43mx\u001b[49m\u001b[43m:\u001b[49m\u001b[43m \u001b[49m\u001b[43mcos_sim\u001b[49m\u001b[43m(\u001b[49m\u001b[43m[\u001b[49m\u001b[43mx\u001b[49m\u001b[43m[\u001b[49m\u001b[38;5;241;43m0\u001b[39;49m\u001b[43m]\u001b[49m\u001b[43m]\u001b[49m\u001b[43m,\u001b[49m\u001b[43m \u001b[49m\u001b[43m[\u001b[49m\u001b[43mx\u001b[49m\u001b[43m[\u001b[49m\u001b[38;5;241;43m1\u001b[39;49m\u001b[43m]\u001b[49m\u001b[43m]\u001b[49m\u001b[43m)\u001b[49m\u001b[43m[\u001b[49m\u001b[38;5;241;43m0\u001b[39;49m\u001b[43m]\u001b[49m\u001b[43m[\u001b[49m\u001b[38;5;241;43m0\u001b[39;49m\u001b[43m]\u001b[49m\u001b[43m,\u001b[49m\u001b[43m \u001b[49m\u001b[43maxis\u001b[49m\u001b[38;5;241;43m=\u001b[39;49m\u001b[38;5;241;43m1\u001b[39;49m\u001b[43m)\u001b[49m\n\u001b[1;32m     18\u001b[0m df\u001b[38;5;241m.\u001b[39mhead(\u001b[38;5;241m1\u001b[39m)\n",
      "File \u001b[0;32m/opt/conda/lib/python3.10/site-packages/pandas/core/frame.py:10374\u001b[0m, in \u001b[0;36mDataFrame.apply\u001b[0;34m(self, func, axis, raw, result_type, args, by_row, engine, engine_kwargs, **kwargs)\u001b[0m\n\u001b[1;32m  10360\u001b[0m \u001b[38;5;28;01mfrom\u001b[39;00m \u001b[38;5;21;01mpandas\u001b[39;00m\u001b[38;5;21;01m.\u001b[39;00m\u001b[38;5;21;01mcore\u001b[39;00m\u001b[38;5;21;01m.\u001b[39;00m\u001b[38;5;21;01mapply\u001b[39;00m \u001b[38;5;28;01mimport\u001b[39;00m frame_apply\n\u001b[1;32m  10362\u001b[0m op \u001b[38;5;241m=\u001b[39m frame_apply(\n\u001b[1;32m  10363\u001b[0m     \u001b[38;5;28mself\u001b[39m,\n\u001b[1;32m  10364\u001b[0m     func\u001b[38;5;241m=\u001b[39mfunc,\n\u001b[0;32m   (...)\u001b[0m\n\u001b[1;32m  10372\u001b[0m     kwargs\u001b[38;5;241m=\u001b[39mkwargs,\n\u001b[1;32m  10373\u001b[0m )\n\u001b[0;32m> 10374\u001b[0m \u001b[38;5;28;01mreturn\u001b[39;00m \u001b[43mop\u001b[49m\u001b[38;5;241;43m.\u001b[39;49m\u001b[43mapply\u001b[49m\u001b[43m(\u001b[49m\u001b[43m)\u001b[49m\u001b[38;5;241m.\u001b[39m__finalize__(\u001b[38;5;28mself\u001b[39m, method\u001b[38;5;241m=\u001b[39m\u001b[38;5;124m\"\u001b[39m\u001b[38;5;124mapply\u001b[39m\u001b[38;5;124m\"\u001b[39m)\n",
      "File \u001b[0;32m/opt/conda/lib/python3.10/site-packages/pandas/core/apply.py:916\u001b[0m, in \u001b[0;36mFrameApply.apply\u001b[0;34m(self)\u001b[0m\n\u001b[1;32m    913\u001b[0m \u001b[38;5;28;01melif\u001b[39;00m \u001b[38;5;28mself\u001b[39m\u001b[38;5;241m.\u001b[39mraw:\n\u001b[1;32m    914\u001b[0m     \u001b[38;5;28;01mreturn\u001b[39;00m \u001b[38;5;28mself\u001b[39m\u001b[38;5;241m.\u001b[39mapply_raw(engine\u001b[38;5;241m=\u001b[39m\u001b[38;5;28mself\u001b[39m\u001b[38;5;241m.\u001b[39mengine, engine_kwargs\u001b[38;5;241m=\u001b[39m\u001b[38;5;28mself\u001b[39m\u001b[38;5;241m.\u001b[39mengine_kwargs)\n\u001b[0;32m--> 916\u001b[0m \u001b[38;5;28;01mreturn\u001b[39;00m \u001b[38;5;28;43mself\u001b[39;49m\u001b[38;5;241;43m.\u001b[39;49m\u001b[43mapply_standard\u001b[49m\u001b[43m(\u001b[49m\u001b[43m)\u001b[49m\n",
      "File \u001b[0;32m/opt/conda/lib/python3.10/site-packages/pandas/core/apply.py:1063\u001b[0m, in \u001b[0;36mFrameApply.apply_standard\u001b[0;34m(self)\u001b[0m\n\u001b[1;32m   1061\u001b[0m \u001b[38;5;28;01mdef\u001b[39;00m \u001b[38;5;21mapply_standard\u001b[39m(\u001b[38;5;28mself\u001b[39m):\n\u001b[1;32m   1062\u001b[0m     \u001b[38;5;28;01mif\u001b[39;00m \u001b[38;5;28mself\u001b[39m\u001b[38;5;241m.\u001b[39mengine \u001b[38;5;241m==\u001b[39m \u001b[38;5;124m\"\u001b[39m\u001b[38;5;124mpython\u001b[39m\u001b[38;5;124m\"\u001b[39m:\n\u001b[0;32m-> 1063\u001b[0m         results, res_index \u001b[38;5;241m=\u001b[39m \u001b[38;5;28;43mself\u001b[39;49m\u001b[38;5;241;43m.\u001b[39;49m\u001b[43mapply_series_generator\u001b[49m\u001b[43m(\u001b[49m\u001b[43m)\u001b[49m\n\u001b[1;32m   1064\u001b[0m     \u001b[38;5;28;01melse\u001b[39;00m:\n\u001b[1;32m   1065\u001b[0m         results, res_index \u001b[38;5;241m=\u001b[39m \u001b[38;5;28mself\u001b[39m\u001b[38;5;241m.\u001b[39mapply_series_numba()\n",
      "File \u001b[0;32m/opt/conda/lib/python3.10/site-packages/pandas/core/apply.py:1081\u001b[0m, in \u001b[0;36mFrameApply.apply_series_generator\u001b[0;34m(self)\u001b[0m\n\u001b[1;32m   1078\u001b[0m \u001b[38;5;28;01mwith\u001b[39;00m option_context(\u001b[38;5;124m\"\u001b[39m\u001b[38;5;124mmode.chained_assignment\u001b[39m\u001b[38;5;124m\"\u001b[39m, \u001b[38;5;28;01mNone\u001b[39;00m):\n\u001b[1;32m   1079\u001b[0m     \u001b[38;5;28;01mfor\u001b[39;00m i, v \u001b[38;5;129;01min\u001b[39;00m \u001b[38;5;28menumerate\u001b[39m(series_gen):\n\u001b[1;32m   1080\u001b[0m         \u001b[38;5;66;03m# ignore SettingWithCopy here in case the user mutates\u001b[39;00m\n\u001b[0;32m-> 1081\u001b[0m         results[i] \u001b[38;5;241m=\u001b[39m \u001b[38;5;28;43mself\u001b[39;49m\u001b[38;5;241;43m.\u001b[39;49m\u001b[43mfunc\u001b[49m\u001b[43m(\u001b[49m\u001b[43mv\u001b[49m\u001b[43m,\u001b[49m\u001b[43m \u001b[49m\u001b[38;5;241;43m*\u001b[39;49m\u001b[38;5;28;43mself\u001b[39;49m\u001b[38;5;241;43m.\u001b[39;49m\u001b[43margs\u001b[49m\u001b[43m,\u001b[49m\u001b[43m \u001b[49m\u001b[38;5;241;43m*\u001b[39;49m\u001b[38;5;241;43m*\u001b[39;49m\u001b[38;5;28;43mself\u001b[39;49m\u001b[38;5;241;43m.\u001b[39;49m\u001b[43mkwargs\u001b[49m\u001b[43m)\u001b[49m\n\u001b[1;32m   1082\u001b[0m         \u001b[38;5;28;01mif\u001b[39;00m \u001b[38;5;28misinstance\u001b[39m(results[i], ABCSeries):\n\u001b[1;32m   1083\u001b[0m             \u001b[38;5;66;03m# If we have a view on v, we need to make a copy because\u001b[39;00m\n\u001b[1;32m   1084\u001b[0m             \u001b[38;5;66;03m#  series_generator will swap out the underlying data\u001b[39;00m\n\u001b[1;32m   1085\u001b[0m             results[i] \u001b[38;5;241m=\u001b[39m results[i]\u001b[38;5;241m.\u001b[39mcopy(deep\u001b[38;5;241m=\u001b[39m\u001b[38;5;28;01mFalse\u001b[39;00m)\n",
      "Cell \u001b[0;32mIn[34], line 17\u001b[0m, in \u001b[0;36m<lambda>\u001b[0;34m(x)\u001b[0m\n\u001b[1;32m     13\u001b[0m df\u001b[38;5;241m.\u001b[39mloc[df\u001b[38;5;241m.\u001b[39mad_text\u001b[38;5;241m.\u001b[39mnotna(), \u001b[38;5;124m'\u001b[39m\u001b[38;5;124mat_base3_mean\u001b[39m\u001b[38;5;124m'\u001b[39m] \u001b[38;5;241m=\u001b[39m df[df\u001b[38;5;241m.\u001b[39mad_text\u001b[38;5;241m.\u001b[39mnotna()][\u001b[38;5;124m'\u001b[39m\u001b[38;5;124mad_text\u001b[39m\u001b[38;5;124m'\u001b[39m]\u001b[38;5;241m.\u001b[39mprogress_apply(\u001b[38;5;28;01mlambda\u001b[39;00m x: np\u001b[38;5;241m.\u001b[39marray(embed_bert_cls4(x, model, tokenizer)))\n\u001b[1;32m     16\u001b[0m df[\u001b[38;5;124m'\u001b[39m\u001b[38;5;124mcos_sim3_mean\u001b[39m\u001b[38;5;124m'\u001b[39m] \u001b[38;5;241m=\u001b[39m \u001b[38;5;28;01mNone\u001b[39;00m\n\u001b[0;32m---> 17\u001b[0m df\u001b[38;5;241m.\u001b[39mloc[df\u001b[38;5;241m.\u001b[39mst_base3_mean\u001b[38;5;241m.\u001b[39mnotna() \u001b[38;5;241m&\u001b[39m df\u001b[38;5;241m.\u001b[39mat_base3_mean\u001b[38;5;241m.\u001b[39mnotna(), \u001b[38;5;124m'\u001b[39m\u001b[38;5;124mcos_sim3_mean\u001b[39m\u001b[38;5;124m'\u001b[39m] \u001b[38;5;241m=\u001b[39m df[df\u001b[38;5;241m.\u001b[39mst_base3_mean\u001b[38;5;241m.\u001b[39mnotna() \u001b[38;5;241m&\u001b[39m df\u001b[38;5;241m.\u001b[39mat_base3_mean\u001b[38;5;241m.\u001b[39mnotna()][[\u001b[38;5;124m'\u001b[39m\u001b[38;5;124mst_base3_mean\u001b[39m\u001b[38;5;124m'\u001b[39m, \u001b[38;5;124m'\u001b[39m\u001b[38;5;124mat_base3_mean\u001b[39m\u001b[38;5;124m'\u001b[39m]]\u001b[38;5;241m.\u001b[39mapply(\u001b[38;5;28;01mlambda\u001b[39;00m x: \u001b[43mcos_sim\u001b[49m([x[\u001b[38;5;241m0\u001b[39m]], [x[\u001b[38;5;241m1\u001b[39m]])[\u001b[38;5;241m0\u001b[39m][\u001b[38;5;241m0\u001b[39m], axis\u001b[38;5;241m=\u001b[39m\u001b[38;5;241m1\u001b[39m)\n\u001b[1;32m     18\u001b[0m df\u001b[38;5;241m.\u001b[39mhead(\u001b[38;5;241m1\u001b[39m)\n",
      "\u001b[0;31mNameError\u001b[0m: name 'cos_sim' is not defined"
     ]
    }
   ],
   "source": [
    "import pandas as pd\n",
    "from tqdm import tqdm, tqdm_pandas\n",
    "tqdm.pandas()\n",
    "\n",
    "import warnings\n",
    "warnings.filterwarnings('ignore')\n",
    "\n",
    "df['st_base3_mean'] = None\n",
    "df.loc[df.site_text.notna(), 'st_base3_mean'] = df[df.site_text.notna()]['site_text'].progress_apply(lambda x: np.array(embed_bert_cls4(x, model, tokenizer)))\n",
    "\n",
    "\n",
    "df['at_base3_mean'] = None\n",
    "df.loc[df.ad_text.notna(), 'at_base3_mean'] = df[df.ad_text.notna()]['ad_text'].progress_apply(lambda x: np.array(embed_bert_cls4(x, model, tokenizer)))\n",
    "\n",
    "\n",
    "df['cos_sim3_mean'] = None\n",
    "df.loc[df.st_base3_mean.notna() & df.at_base3_mean.notna(), 'cos_sim3_mean'] = df[df.st_base3_mean.notna() & df.at_base3_mean.notna()][['st_base3_mean', 'at_base3_mean']].apply(lambda x: cos_sim([x[0]], [x[1]])[0][0], axis=1)\n",
    "df.head(1)"
   ]
  },
  {
   "cell_type": "code",
   "execution_count": null,
   "metadata": {
    "execution": {
     "iopub.execute_input": "2024-05-27T11:57:10.802963Z",
     "iopub.status.busy": "2024-05-27T11:57:10.802592Z",
     "iopub.status.idle": "2024-05-27T11:57:13.600124Z",
     "shell.execute_reply": "2024-05-27T11:57:13.599179Z",
     "shell.execute_reply.started": "2024-05-27T11:57:10.802934Z"
    }
   },
   "outputs": [],
   "source": [
    "from sklearn.metrics.pairwise import cosine_similarity as cos_sim\n",
    "\n",
    "df['cos_sim3_mean'] = None\n",
    "df.loc[df.st_base3_mean.notna() & df.at_base3_mean.notna(), 'cos_sim3_mean'] = df[df.st_base3_mean.notna() & df.at_base3_mean.notna()][['st_base3_mean', 'at_base3_mean']].apply(lambda x: cos_sim([x[0]], [x[1]])[0][0], axis=1)\n",
    "#df.head(1)"
   ]
  },
  {
   "cell_type": "code",
   "execution_count": 36,
   "metadata": {
    "execution": {
     "iopub.execute_input": "2024-05-27T11:57:21.494585Z",
     "iopub.status.busy": "2024-05-27T11:57:21.494215Z",
     "iopub.status.idle": "2024-05-27T11:57:21.511100Z",
     "shell.execute_reply": "2024-05-27T11:57:21.510350Z",
     "shell.execute_reply.started": "2024-05-27T11:57:21.494552Z"
    }
   },
   "outputs": [],
   "source": [
    "to_eval4 = df[df.cos_sim3.notna()].sort_values(by='ctr')"
   ]
  },
  {
   "cell_type": "code",
   "execution_count": 37,
   "metadata": {
    "execution": {
     "iopub.execute_input": "2024-05-27T11:57:23.162446Z",
     "iopub.status.busy": "2024-05-27T11:57:23.161837Z",
     "iopub.status.idle": "2024-05-27T11:57:23.479913Z",
     "shell.execute_reply": "2024-05-27T11:57:23.478979Z",
     "shell.execute_reply.started": "2024-05-27T11:57:23.162414Z"
    }
   },
   "outputs": [
    {
     "data": {
      "image/png": "[encoded data removed]",
      "text/plain": [
       "<Figure size 640x480 with 1 Axes>"
      ]
     },
     "metadata": {},
     "output_type": "display_data"
    }
   ],
   "source": [
    "import matplotlib.pyplot as plt\n",
    "\n",
    "y = to_eval4.ctr.tolist()\n",
    "x = list(range(len(y)))\n",
    "\n",
    "plt.scatter(x, y, color='green', s=1)#, marker='o', markersize=1)\n",
    "\n",
    "y = np.array(to_eval4.cos_sim3_mean.tolist()) / 25\n",
    "x = list(range(len(y)))\n",
    "\n",
    "plt.scatter(x, y, color='red', s=1)\n",
    "\n",
    "plt.show()"
   ]
  },
  {
   "cell_type": "code",
   "execution_count": 38,
   "metadata": {
    "execution": {
     "iopub.execute_input": "2024-05-27T11:57:55.126084Z",
     "iopub.status.busy": "2024-05-27T11:57:55.125738Z",
     "iopub.status.idle": "2024-05-27T11:57:55.132502Z",
     "shell.execute_reply": "2024-05-27T11:57:55.131594Z",
     "shell.execute_reply.started": "2024-05-27T11:57:55.126058Z"
    }
   },
   "outputs": [
    {
     "data": {
      "text/plain": [
       "Index(['ad_id', 'site_id', 'site_url', 'site_text', 'ad_url', 'ad_description',\n",
       "       'ad_title', 'ad_text', 'clicks_count', 'impression_count', 'ctr',\n",
       "       'st_base', 'at_base', 'cos_sim1', 'st_base2', 'at_base2', 'cos_sim2',\n",
       "       'st_base3', 'at_base3', 'cos_sim3', 'ad_desc_tit', 'adt_base',\n",
       "       'adt_base2', 'adt_base3', 'cos_sim_adt1', 'cos_sim_adt2',\n",
       "       'cos_sim_adt3', 'st_base3_mean', 'at_base3_mean', 'cos_sim3_mean'],\n",
       "      dtype='object')"
      ]
     },
     "execution_count": 38,
     "metadata": {},
     "output_type": "execute_result"
    }
   ],
   "source": [
    "df.columns"
   ]
  },
  {
   "cell_type": "code",
   "execution_count": 39,
   "metadata": {
    "execution": {
     "iopub.execute_input": "2024-05-27T11:58:43.936323Z",
     "iopub.status.busy": "2024-05-27T11:58:43.935958Z",
     "iopub.status.idle": "2024-05-27T11:58:43.951683Z",
     "shell.execute_reply": "2024-05-27T11:58:43.950588Z",
     "shell.execute_reply.started": "2024-05-27T11:58:43.936293Z"
    }
   },
   "outputs": [
    {
     "data": {
      "text/html": [
       "<div>\n",
       "<style scoped>\n",
       "    .dataframe tbody tr th:only-of-type {\n",
       "        vertical-align: middle;\n",
       "    }\n",
       "\n",
       "    .dataframe tbody tr th {\n",
       "        vertical-align: top;\n",
       "    }\n",
       "\n",
       "    .dataframe thead th {\n",
       "        text-align: right;\n",
       "    }\n",
       "</style>\n",
       "<table border=\"1\" class=\"dataframe\">\n",
       "  <thead>\n",
       "    <tr style=\"text-align: right;\">\n",
       "      <th></th>\n",
       "      <th>ad_id</th>\n",
       "      <th>site_id</th>\n",
       "      <th>st_base3_mean</th>\n",
       "      <th>at_base3_mean</th>\n",
       "      <th>cos_sim3_mean</th>\n",
       "    </tr>\n",
       "  </thead>\n",
       "  <tbody>\n",
       "    <tr>\n",
       "      <th>28494</th>\n",
       "      <td>1769</td>\n",
       "      <td>58</td>\n",
       "      <td>[-0.009434211, 0.013426143, 0.004026207, 0.007...</td>\n",
       "      <td>[-0.032140974, -0.000507405, 0.09761079, -0.03...</td>\n",
       "      <td>0.087631</td>\n",
       "    </tr>\n",
       "  </tbody>\n",
       "</table>\n",
       "</div>"
      ],
      "text/plain": [
       "       ad_id  site_id                                      st_base3_mean  \\\n",
       "28494   1769       58  [-0.009434211, 0.013426143, 0.004026207, 0.007...   \n",
       "\n",
       "                                           at_base3_mean cos_sim3_mean  \n",
       "28494  [-0.032140974, -0.000507405, 0.09761079, -0.03...      0.087631  "
      ]
     },
     "execution_count": 39,
     "metadata": {},
     "output_type": "execute_result"
    }
   ],
   "source": [
    "ddf = df[['ad_id', 'site_id', 'st_base3_mean', 'at_base3_mean', 'cos_sim3_mean']]\n",
    "ddf.head(1)"
   ]
  },
  {
   "cell_type": "code",
   "execution_count": 40,
   "metadata": {
    "execution": {
     "iopub.execute_input": "2024-05-27T11:59:29.482447Z",
     "iopub.status.busy": "2024-05-27T11:59:29.482123Z",
     "iopub.status.idle": "2024-05-27T11:59:32.728042Z",
     "shell.execute_reply": "2024-05-27T11:59:32.727210Z",
     "shell.execute_reply.started": "2024-05-27T11:59:29.482422Z"
    }
   },
   "outputs": [],
   "source": [
    "ddf.to_json('###')"
   ]
  },
  {
   "cell_type": "code",
   "execution_count": null,
   "metadata": {},
   "outputs": [],
   "source": []
  },
  {
   "cell_type": "code",
   "execution_count": null,
   "metadata": {},
   "outputs": [],
   "source": []
  },
  {
   "cell_type": "code",
   "execution_count": null,
   "metadata": {
    "execution": {
     "iopub.execute_input": "2024-05-27T11:09:14.793920Z",
     "iopub.status.busy": "2024-05-27T11:09:14.793270Z",
     "iopub.status.idle": "2024-05-27T11:09:14.817982Z",
     "shell.execute_reply": "2024-05-27T11:09:14.817112Z",
     "shell.execute_reply.started": "2024-05-27T11:09:14.793876Z"
    }
   },
   "outputs": [],
   "source": [
    "text = df.iloc[-1].site_text\n",
    "tokens = tokenizer(text, padding=False, truncation=False, return_tensors='pt')\n",
    "input_ids = tokens['input_ids'][0]\n",
    "readable_tokens = tokenizer.convert_ids_to_tokens(input_ids)\n",
    "#print(readable_tokens)"
   ]
  },
  {
   "cell_type": "markdown",
   "metadata": {},
   "source": [
    "## rubert-base-cased encode for (title + description)"
   ]
  },
  {
   "cell_type": "code",
   "execution_count": null,
   "metadata": {
    "execution": {
     "iopub.execute_input": "2024-05-18T14:52:04.859134Z",
     "iopub.status.busy": "2024-05-18T14:52:04.858436Z",
     "iopub.status.idle": "2024-05-18T14:52:05.189955Z",
     "shell.execute_reply": "2024-05-18T14:52:05.189029Z",
     "shell.execute_reply.started": "2024-05-18T14:52:04.859099Z"
    }
   },
   "outputs": [],
   "source": [
    "df['ad_desc_tit'] = None\n",
    "#df.loc[df.site_text.notna(), 'st_base3'] = df[df.site_text.notna()]['site_text'].progress_apply(lambda x: np.array(embed_bert_cls3(x, model, tokenizer)))\n",
    "\n",
    "df.loc[df.ad_description.notna() & df.ad_title.isna(), 'ad_desc_tit']  = df.loc[df.ad_description.notna() & df.ad_title.isna(), 'ad_description']\n",
    "df.loc[df.ad_description.isna()  & df.ad_title.notna(), 'ad_desc_tit'] = df.loc[df.ad_description.notna() & df.ad_title.isna(), 'ad_title'] \n",
    "df.loc[df.ad_description.notna() & df.ad_title.notna(), 'ad_desc_tit'] = df[df.ad_description.notna() & df.ad_title.notna()][['ad_description', 'ad_title']].apply(lambda x: x[0] + \" \" + x[1], axis=1)\n",
    "\n",
    "df.head(2)"
   ]
  },
  {
   "cell_type": "code",
   "execution_count": null,
   "metadata": {
    "execution": {
     "iopub.execute_input": "2024-05-18T14:59:47.710988Z",
     "iopub.status.busy": "2024-05-18T14:59:47.710609Z",
     "iopub.status.idle": "2024-05-18T15:02:57.627061Z",
     "shell.execute_reply": "2024-05-18T15:02:57.626086Z",
     "shell.execute_reply.started": "2024-05-18T14:59:47.710958Z"
    }
   },
   "outputs": [],
   "source": [
    "import warnings\n",
    "warnings.filterwarnings('ignore')\n",
    "\n",
    "df['adt_base'] = None\n",
    "df.loc[df.ad_desc_tit.notna(), 'adt_base']  = df[df.ad_desc_tit.notna()]['ad_desc_tit'].progress_apply(lambda x: np.array(embed_bert_cls(x, model, tokenizer)))\n",
    "\n",
    "df['adt_base2'] = None\n",
    "df.loc[df.ad_desc_tit.notna(), 'adt_base2'] = df[df.ad_desc_tit.notna()]['ad_desc_tit'].progress_apply(lambda x: np.array(embed_bert_cls2(x, model, tokenizer)))\n",
    "\n",
    "df['adt_base3'] = None\n",
    "df.loc[df.ad_desc_tit.notna(), 'adt_base3'] = df[df.ad_desc_tit.notna()]['ad_desc_tit'].progress_apply(lambda x: np.array(embed_bert_cls3(x, model, tokenizer)))\n",
    "\n",
    "\n",
    "df.head(1)"
   ]
  },
  {
   "cell_type": "code",
   "execution_count": null,
   "metadata": {
    "execution": {
     "iopub.execute_input": "2024-05-18T15:05:40.816745Z",
     "iopub.status.busy": "2024-05-18T15:05:40.815883Z",
     "iopub.status.idle": "2024-05-18T15:05:46.377476Z",
     "shell.execute_reply": "2024-05-18T15:05:46.376557Z",
     "shell.execute_reply.started": "2024-05-18T15:05:40.816709Z"
    }
   },
   "outputs": [],
   "source": [
    "df['cos_sim_adt1'] = None\n",
    "df.loc[df.st_base.notna() & df.adt_base.notna(), 'cos_sim_adt1']   = df[df.st_base.notna()  & df.adt_base.notna()][['st_base', 'adt_base']].apply(lambda x: cos_sim([x[0]], [x[1]])[0][0], axis=1)\n",
    "\n",
    "\n",
    "df['cos_sim_adt2'] = None\n",
    "df.loc[df.st_base2.notna() & df.adt_base2.notna(), 'cos_sim_adt2'] = df[df.st_base2.notna() & df.adt_base2.notna()][['st_base2', 'adt_base2']].apply(lambda x: cos_sim([x[0]], [x[1]])[0][0], axis=1)\n",
    "\n",
    "\n",
    "df['cos_sim_adt3'] = None\n",
    "df.loc[df.st_base3.notna() & df.adt_base3.notna(), 'cos_sim_adt3'] = df[df.st_base3.notna() & df.adt_base3.notna()][['st_base3', 'adt_base3']].apply(lambda x: cos_sim([x[0]], [x[1]])[0][0], axis=1)\n",
    "\n",
    "df.head(1)"
   ]
  },
  {
   "cell_type": "code",
   "execution_count": null,
   "metadata": {
    "execution": {
     "iopub.execute_input": "2024-05-18T15:08:32.351521Z",
     "iopub.status.busy": "2024-05-18T15:08:32.350439Z",
     "iopub.status.idle": "2024-05-18T15:08:32.369673Z",
     "shell.execute_reply": "2024-05-18T15:08:32.368653Z",
     "shell.execute_reply.started": "2024-05-18T15:08:32.351482Z"
    }
   },
   "outputs": [],
   "source": [
    "to_eval4 = df[df.cos_sim_adt1.notna()].sort_values(by='ctr')"
   ]
  },
  {
   "cell_type": "code",
   "execution_count": null,
   "metadata": {
    "execution": {
     "iopub.execute_input": "2024-05-18T15:22:16.589275Z",
     "iopub.status.busy": "2024-05-18T15:22:16.588550Z",
     "iopub.status.idle": "2024-05-18T15:22:16.608895Z",
     "shell.execute_reply": "2024-05-18T15:22:16.607974Z",
     "shell.execute_reply.started": "2024-05-18T15:22:16.589232Z"
    }
   },
   "outputs": [],
   "source": [
    "from sklearn.metrics import ndcg_score #https://scikit-learn.org/stable/modules/generated/sklearn.metrics.ndcg_score.html\n",
    "\n",
    "y = to_eval4.ctr.tolist()\n",
    "x = to_eval4.cos_sim_adt1.tolist()\n",
    "\n",
    "true_relevance = np.asarray([y])\n",
    "scores = np.asarray([x])\n",
    "res = ndcg_score(true_relevance, scores, k=100)\n",
    "print(res)\n",
    "\n",
    "x = to_eval4.cos_sim_adt2.tolist()\n",
    "true_relevance = np.asarray([y])\n",
    "scores = np.asarray([x])\n",
    "res = ndcg_score(true_relevance, scores, k=100)\n",
    "print(res)\n",
    "\n",
    "x = to_eval4.cos_sim_adt3.tolist()\n",
    "true_relevance = np.asarray([y])\n",
    "scores = np.asarray([x])\n",
    "res = ndcg_score(true_relevance, scores, k=100)\n",
    "print(res)"
   ]
  },
  {
   "cell_type": "code",
   "execution_count": null,
   "metadata": {
    "execution": {
     "iopub.execute_input": "2024-05-18T15:22:20.334240Z",
     "iopub.status.busy": "2024-05-18T15:22:20.333873Z",
     "iopub.status.idle": "2024-05-18T15:22:20.352784Z",
     "shell.execute_reply": "2024-05-18T15:22:20.351894Z",
     "shell.execute_reply.started": "2024-05-18T15:22:20.334209Z"
    }
   },
   "outputs": [],
   "source": [
    "from sklearn.metrics import ndcg_score #https://scikit-learn.org/stable/modules/generated/sklearn.metrics.ndcg_score.html\n",
    "\n",
    "y = to_eval4.ctr.tolist()\n",
    "x = to_eval4.cos_sim_adt1.tolist()\n",
    "\n",
    "k = len(y)\n",
    "\n",
    "true_relevance = np.asarray([y])\n",
    "scores = np.asarray([x])\n",
    "res = ndcg_score(true_relevance, scores, k=k)\n",
    "print(res)\n",
    "\n",
    "x = to_eval4.cos_sim_adt2.tolist()\n",
    "true_relevance = np.asarray([y])\n",
    "scores = np.asarray([x])\n",
    "res = ndcg_score(true_relevance, scores, k=k)\n",
    "print(res)\n",
    "\n",
    "x = to_eval4.cos_sim_adt3.tolist()\n",
    "true_relevance = np.asarray([y])\n",
    "scores = np.asarray([x])\n",
    "res = ndcg_score(true_relevance, scores, k=k)\n",
    "print(res)"
   ]
  },
  {
   "cell_type": "code",
   "execution_count": null,
   "metadata": {},
   "outputs": [],
   "source": []
  },
  {
   "cell_type": "code",
   "execution_count": null,
   "metadata": {},
   "outputs": [],
   "source": []
  },
  {
   "cell_type": "code",
   "execution_count": null,
   "metadata": {
    "execution": {
     "iopub.execute_input": "2024-05-18T15:22:40.785525Z",
     "iopub.status.busy": "2024-05-18T15:22:40.784909Z",
     "iopub.status.idle": "2024-05-18T15:22:57.919888Z",
     "shell.execute_reply": "2024-05-18T15:22:57.919099Z",
     "shell.execute_reply.started": "2024-05-18T15:22:40.785492Z"
    }
   },
   "outputs": [],
   "source": [
    "df.to_json('###')"
   ]
  },
  {
   "cell_type": "markdown",
   "metadata": {},
   "source": [
    "## rubert-base-cased encode for (title + description)"
   ]
  },
  {
   "cell_type": "code",
   "execution_count": null,
   "metadata": {
    "execution": {
     "iopub.execute_input": "2024-05-18T15:29:47.945313Z",
     "iopub.status.busy": "2024-05-18T15:29:47.944943Z",
     "iopub.status.idle": "2024-05-18T15:29:47.953394Z",
     "shell.execute_reply": "2024-05-18T15:29:47.952453Z",
     "shell.execute_reply.started": "2024-05-18T15:29:47.945281Z"
    }
   },
   "outputs": [],
   "source": [
    "print(len(df.ad_id.unique()))\n",
    "print(len(df.site_id.unique()))\n",
    "print(df.shape[0])\n",
    "print(len(df.site_id.unique()) * len(df.ad_id.unique()))\n",
    "print( df.shape[0] / (len(df.site_id.unique()) * len(df.ad_id.unique())) )"
   ]
  },
  {
   "cell_type": "code",
   "execution_count": null,
   "metadata": {
    "execution": {
     "iopub.execute_input": "2024-05-18T16:38:35.395443Z",
     "iopub.status.busy": "2024-05-18T16:38:35.395104Z",
     "iopub.status.idle": "2024-05-18T16:38:35.408062Z",
     "shell.execute_reply": "2024-05-18T16:38:35.407023Z",
     "shell.execute_reply.started": "2024-05-18T16:38:35.395416Z"
    }
   },
   "outputs": [],
   "source": [
    "df[['ad_id', 'site_id']].groupby(by='site_id').count()"
   ]
  },
  {
   "cell_type": "code",
   "execution_count": null,
   "metadata": {
    "execution": {
     "iopub.execute_input": "2024-05-19T11:40:28.901534Z",
     "iopub.status.busy": "2024-05-19T11:40:28.900722Z",
     "iopub.status.idle": "2024-05-19T11:40:29.234523Z",
     "shell.execute_reply": "2024-05-19T11:40:29.233296Z",
     "shell.execute_reply.started": "2024-05-19T11:40:28.901497Z"
    }
   },
   "outputs": [],
   "source": [
    "a = df[['ad_id', 'site_id']].groupby(by='site_id').count()\n",
    "a[a['ad_id'] >= 2]"
   ]
  },
  {
   "cell_type": "code",
   "execution_count": null,
   "metadata": {
    "execution": {
     "iopub.execute_input": "2024-05-19T11:43:53.181686Z",
     "iopub.status.busy": "2024-05-19T11:43:53.180796Z",
     "iopub.status.idle": "2024-05-19T11:44:12.366204Z",
     "shell.execute_reply": "2024-05-19T11:44:12.365341Z",
     "shell.execute_reply.started": "2024-05-19T11:43:53.181651Z"
    }
   },
   "outputs": [],
   "source": [
    "import pandas as pd\n",
    "\n",
    "df = pd.read_json('####')"
   ]
  },
  {
   "cell_type": "code",
   "execution_count": null,
   "metadata": {
    "execution": {
     "iopub.execute_input": "2024-05-19T11:44:22.871076Z",
     "iopub.status.busy": "2024-05-19T11:44:22.870020Z",
     "iopub.status.idle": "2024-05-19T11:44:22.917515Z",
     "shell.execute_reply": "2024-05-19T11:44:22.916385Z",
     "shell.execute_reply.started": "2024-05-19T11:44:22.871030Z"
    }
   },
   "outputs": [],
   "source": [
    "df.head(1)"
   ]
  },
  {
   "cell_type": "code",
   "execution_count": null,
   "metadata": {
    "execution": {
     "iopub.execute_input": "2024-05-19T11:44:33.602591Z",
     "iopub.status.busy": "2024-05-19T11:44:33.601716Z",
     "iopub.status.idle": "2024-05-19T11:44:33.619461Z",
     "shell.execute_reply": "2024-05-19T11:44:33.618569Z",
     "shell.execute_reply.started": "2024-05-19T11:44:33.602536Z"
    }
   },
   "outputs": [],
   "source": [
    "a = df[['ad_id', 'site_id']].groupby(by='site_id').count()\n",
    "a[a['ad_id'] >= 2]"
   ]
  },
  {
   "cell_type": "code",
   "execution_count": null,
   "metadata": {
    "execution": {
     "iopub.execute_input": "2024-05-19T11:44:46.978604Z",
     "iopub.status.busy": "2024-05-19T11:44:46.978103Z",
     "iopub.status.idle": "2024-05-19T11:44:46.991546Z",
     "shell.execute_reply": "2024-05-19T11:44:46.990530Z",
     "shell.execute_reply.started": "2024-05-19T11:44:46.978570Z"
    }
   },
   "outputs": [],
   "source": [
    "df[['ad_id', 'site_id']].groupby(by='site_id').count()\n"
   ]
  },
  {
   "cell_type": "code",
   "execution_count": null,
   "metadata": {},
   "outputs": [],
   "source": []
  },
  {
   "cell_type": "code",
   "execution_count": null,
   "metadata": {
    "execution": {
     "iopub.execute_input": "2024-05-18T16:38:51.029879Z",
     "iopub.status.busy": "2024-05-18T16:38:51.029515Z",
     "iopub.status.idle": "2024-05-18T16:38:51.042530Z",
     "shell.execute_reply": "2024-05-18T16:38:51.041485Z",
     "shell.execute_reply.started": "2024-05-18T16:38:51.029848Z"
    }
   },
   "outputs": [],
   "source": [
    "df[['ad_id', 'site_id']].groupby(by='ad_id').count()"
   ]
  },
  {
   "cell_type": "markdown",
   "metadata": {
    "execution": {
     "iopub.execute_input": "2024-05-18T16:34:38.887306Z",
     "iopub.status.busy": "2024-05-18T16:34:38.886923Z",
     "iopub.status.idle": "2024-05-18T16:34:38.893411Z",
     "shell.execute_reply": "2024-05-18T16:34:38.892492Z",
     "shell.execute_reply.started": "2024-05-18T16:34:38.887273Z"
    }
   },
   "source": [
    "## true nDCG"
   ]
  },
  {
   "cell_type": "code",
   "execution_count": null,
   "metadata": {
    "execution": {
     "iopub.execute_input": "2024-05-18T17:26:47.565573Z",
     "iopub.status.busy": "2024-05-18T17:26:47.565207Z",
     "iopub.status.idle": "2024-05-18T17:26:57.277412Z",
     "shell.execute_reply": "2024-05-18T17:26:57.276357Z",
     "shell.execute_reply.started": "2024-05-18T17:26:47.565540Z"
    }
   },
   "outputs": [],
   "source": [
    "import pandas as pd\n",
    "\n",
    "df = pd.read_json('####')\n",
    "df.head(1)"
   ]
  },
  {
   "cell_type": "code",
   "execution_count": null,
   "metadata": {
    "execution": {
     "iopub.execute_input": "2024-05-18T17:26:57.279747Z",
     "iopub.status.busy": "2024-05-18T17:26:57.279406Z",
     "iopub.status.idle": "2024-05-18T17:26:57.298835Z",
     "shell.execute_reply": "2024-05-18T17:26:57.298044Z",
     "shell.execute_reply.started": "2024-05-18T17:26:57.279713Z"
    }
   },
   "outputs": [],
   "source": [
    "ad_id_list = df.ad_id.unique().tolist()\n",
    "ad_id_list.sort()\n",
    "\n",
    "ad_id_dict = {}\n",
    "for i, v in enumerate(ad_id_list):\n",
    "    ad_id_dict[v] = i\n",
    "\n",
    "df['ad_id'] = df.ad_id.apply(lambda x: ad_id_dict[x])"
   ]
  },
  {
   "cell_type": "code",
   "execution_count": null,
   "metadata": {
    "execution": {
     "iopub.execute_input": "2024-05-18T17:26:57.300929Z",
     "iopub.status.busy": "2024-05-18T17:26:57.300179Z",
     "iopub.status.idle": "2024-05-18T17:26:57.318309Z",
     "shell.execute_reply": "2024-05-18T17:26:57.317456Z",
     "shell.execute_reply.started": "2024-05-18T17:26:57.300894Z"
    }
   },
   "outputs": [],
   "source": [
    "site_id_list = df.site_id.unique().tolist()\n",
    "site_id_list.sort()\n",
    "\n",
    "site_id_dict = {}\n",
    "for i, v in enumerate(site_id_list):\n",
    "    site_id_dict[v] = i\n",
    "\n",
    "df['site_id'] = df.site_id.apply(lambda x: site_id_dict[x])"
   ]
  },
  {
   "cell_type": "code",
   "execution_count": null,
   "metadata": {
    "execution": {
     "iopub.execute_input": "2024-05-18T17:29:23.005179Z",
     "iopub.status.busy": "2024-05-18T17:29:23.004339Z",
     "iopub.status.idle": "2024-05-18T17:29:23.663061Z",
     "shell.execute_reply": "2024-05-18T17:29:23.662261Z",
     "shell.execute_reply.started": "2024-05-18T17:29:23.005130Z"
    }
   },
   "outputs": [],
   "source": [
    "import pandas as pd\n",
    "import numpy as np\n",
    "\n",
    "unique_ad_ids = df['ad_id'].unique()\n",
    "unique_site_ids = df['site_id'].unique()\n",
    "\n",
    "matrix = np.zeros((len(unique_site_ids), len(unique_ad_ids)))\n",
    "\n",
    "ad_id_to_index = {ad_id: idx for idx, ad_id in enumerate(unique_ad_ids)}\n",
    "site_id_to_index = {site_id: idx for idx, site_id in enumerate(unique_site_ids)}\n",
    "\n",
    "for _, row in df.iterrows():\n",
    "    ad_index = ad_id_to_index[row['ad_id']]\n",
    "    site_index = site_id_to_index[row['site_id']]\n",
    "    matrix[site_index, ad_index] = row['ctr']\n"
   ]
  },
  {
   "cell_type": "code",
   "execution_count": null,
   "metadata": {
    "execution": {
     "iopub.execute_input": "2024-05-18T17:14:11.664904Z",
     "iopub.status.busy": "2024-05-18T17:14:11.664015Z",
     "iopub.status.idle": "2024-05-18T17:14:11.690823Z",
     "shell.execute_reply": "2024-05-18T17:14:11.689906Z",
     "shell.execute_reply.started": "2024-05-18T17:14:11.664871Z"
    }
   },
   "outputs": [],
   "source": [
    "df[['site_id', 'st_base']].drop_duplicates(subset=['site_id'])"
   ]
  },
  {
   "cell_type": "code",
   "execution_count": null,
   "metadata": {},
   "outputs": [],
   "source": []
  },
  {
   "cell_type": "code",
   "execution_count": null,
   "metadata": {
    "execution": {
     "iopub.execute_input": "2024-05-18T17:29:25.587462Z",
     "iopub.status.busy": "2024-05-18T17:29:25.586786Z",
     "iopub.status.idle": "2024-05-18T17:29:28.843727Z",
     "shell.execute_reply": "2024-05-18T17:29:28.842627Z",
     "shell.execute_reply.started": "2024-05-18T17:29:25.587430Z"
    }
   },
   "outputs": [],
   "source": [
    "import pandas as pd\n",
    "import numpy as np\n",
    "from sklearn.metrics.pairwise import cosine_similarity\n",
    "\n",
    "max_ad_id = df['ad_id'].max()\n",
    "max_site_id = df['site_id'].max()\n",
    "\n",
    "matrix2 = np.zeros((max_site_id + 1, max_ad_id + 1))\n",
    "\n",
    "for _, row in df.iterrows():\n",
    "    ad_id = row['ad_id']\n",
    "    site_id = row['site_id']\n",
    "    ad_vec = row['adt_base']\n",
    "    site_vec = row['st_base']\n",
    "    \n",
    "    if ad_vec is not None and site_vec is not None:\n",
    "        similarity = cosine_similarity([ad_vec], [site_vec])[0][0]\n",
    "        matrix2[site_id, ad_id] = similarity\n",
    "\n",
    "print(matrix2)\n"
   ]
  },
  {
   "cell_type": "code",
   "execution_count": null,
   "metadata": {
    "execution": {
     "iopub.execute_input": "2024-05-18T17:29:46.148195Z",
     "iopub.status.busy": "2024-05-18T17:29:46.147461Z",
     "iopub.status.idle": "2024-05-18T17:29:46.360015Z",
     "shell.execute_reply": "2024-05-18T17:29:46.358689Z",
     "shell.execute_reply.started": "2024-05-18T17:29:46.148160Z"
    }
   },
   "outputs": [],
   "source": [
    "y = to_eval4.ctr.tolist()\n",
    "x = to_eval4.cos_sim_adt1.tolist()\n",
    "\n",
    "k = len(y)\n",
    "\n",
    "true_relevance = np.asarray(matrix)\n",
    "scores = np.asarray(matrix2)\n",
    "res = ndcg_score(true_relevance, scores, k=k)\n",
    "print(res)"
   ]
  },
  {
   "cell_type": "code",
   "execution_count": null,
   "metadata": {
    "execution": {
     "iopub.execute_input": "2024-05-18T18:48:52.086080Z",
     "iopub.status.busy": "2024-05-18T18:48:52.085190Z",
     "iopub.status.idle": "2024-05-18T18:48:52.285126Z",
     "shell.execute_reply": "2024-05-18T18:48:52.283614Z",
     "shell.execute_reply.started": "2024-05-18T18:48:52.086031Z"
    }
   },
   "outputs": [],
   "source": [
    "y = to_eval4.ctr.tolist()\n",
    "x = to_eval4.cos_sim_adt1.tolist()\n",
    "\n",
    "k = len(y)\n",
    "\n",
    "true_relevance = np.asarray(matrix)\n",
    "scores = np.asarray(matrix2)\n",
    "res = ndcg_score(true_relevance, scores, k=100)\n",
    "print(res)"
   ]
  },
  {
   "cell_type": "code",
   "execution_count": null,
   "metadata": {
    "execution": {
     "iopub.execute_input": "2024-05-18T18:51:32.906404Z",
     "iopub.status.busy": "2024-05-18T18:51:32.906002Z",
     "iopub.status.idle": "2024-05-18T18:51:33.099216Z",
     "shell.execute_reply": "2024-05-18T18:51:33.097802Z",
     "shell.execute_reply.started": "2024-05-18T18:51:32.906373Z"
    }
   },
   "outputs": [],
   "source": [
    "y = to_eval4.ctr.tolist()\n",
    "x = to_eval4.cos_sim_adt1.tolist()\n",
    "\n",
    "k = len(y)\n",
    "\n",
    "true_relevance = np.asarray(matrix)\n",
    "scores = np.asarray(matrix2)\n",
    "res = ndcg_score(true_relevance, scores, k=10)\n",
    "print(res)"
   ]
  },
  {
   "cell_type": "code",
   "execution_count": null,
   "metadata": {},
   "outputs": [],
   "source": []
  },
  {
   "cell_type": "code",
   "execution_count": null,
   "metadata": {},
   "outputs": [],
   "source": []
  },
  {
   "cell_type": "code",
   "execution_count": null,
   "metadata": {
    "execution": {
     "iopub.execute_input": "2024-05-18T18:32:33.589642Z",
     "iopub.status.busy": "2024-05-18T18:32:33.588793Z",
     "iopub.status.idle": "2024-05-18T18:32:33.597041Z",
     "shell.execute_reply": "2024-05-18T18:32:33.596133Z",
     "shell.execute_reply.started": "2024-05-18T18:32:33.589609Z"
    }
   },
   "outputs": [],
   "source": [
    "import numpy as np\n",
    "\n",
    "def calculate_dcg(true_relevance, scores):\n",
    "    sorted_indices = np.argsort(scores)[::-1]\n",
    "    \n",
    "    sorted_true_relevance = np.array(true_relevance)[sorted_indices]\n",
    "    \n",
    "    dcg = 0.0\n",
    "    for i, rel in enumerate(sorted_true_relevance):\n",
    "        dcg += (2**rel - 1) / np.log2(i + 2)\n",
    "    \n",
    "    return dcg\n",
    "\n",
    "true_relevance = [5, 1, 0, 0, 10]\n",
    "scores = [70, 4, 0.3, 0.2, 0.1]\n",
    "\n",
    "dcg = calculate_dcg(true_relevance, scores)\n",
    "print(f\"DCG: {dcg}\")\n"
   ]
  },
  {
   "cell_type": "markdown",
   "metadata": {},
   "source": [
    "В sklearn используется линейная шкала, то есть не (2^r ... - 1) а просто r..."
   ]
  },
  {
   "cell_type": "markdown",
   "metadata": {},
   "source": [
    "## auc roc, pr roc, f1"
   ]
  },
  {
   "cell_type": "code",
   "execution_count": null,
   "metadata": {
    "execution": {
     "iopub.execute_input": "2024-05-19T08:27:14.278016Z",
     "iopub.status.busy": "2024-05-19T08:27:14.277076Z",
     "iopub.status.idle": "2024-05-19T08:27:14.283327Z",
     "shell.execute_reply": "2024-05-19T08:27:14.282394Z",
     "shell.execute_reply.started": "2024-05-19T08:27:14.277977Z"
    }
   },
   "outputs": [],
   "source": [
    "df['ctr>0'] = None\n",
    "df.loc[df.st_base.notna() & df.adt_base.notna(), 'cos_sim_adt1']   = df[df.st_base.notna()  & df.adt_base.notna()][['st_base', 'adt_base']].apply(lambda x: cos_sim([x[0]], [x[1]])[0][0], axis=1)\n"
   ]
  },
  {
   "cell_type": "code",
   "execution_count": null,
   "metadata": {
    "execution": {
     "iopub.execute_input": "2024-05-19T08:33:00.287922Z",
     "iopub.status.busy": "2024-05-19T08:33:00.287231Z",
     "iopub.status.idle": "2024-05-19T08:33:00.310433Z",
     "shell.execute_reply": "2024-05-19T08:33:00.309407Z",
     "shell.execute_reply.started": "2024-05-19T08:33:00.287889Z"
    }
   },
   "outputs": [],
   "source": [
    "df['ctr>0'] = None\n",
    "df['ctr>0'] = (df['ctr'] > 0).astype(int)\n",
    "df.head(1)"
   ]
  },
  {
   "cell_type": "code",
   "execution_count": null,
   "metadata": {
    "execution": {
     "iopub.execute_input": "2024-05-19T08:34:00.170811Z",
     "iopub.status.busy": "2024-05-19T08:34:00.169763Z",
     "iopub.status.idle": "2024-05-19T08:34:00.180993Z",
     "shell.execute_reply": "2024-05-19T08:34:00.179941Z",
     "shell.execute_reply.started": "2024-05-19T08:34:00.170774Z"
    }
   },
   "outputs": [],
   "source": [
    "df = df.sort_values(by='ctr')"
   ]
  },
  {
   "cell_type": "code",
   "execution_count": null,
   "metadata": {
    "execution": {
     "iopub.execute_input": "2024-05-19T08:36:17.480559Z",
     "iopub.status.busy": "2024-05-19T08:36:17.479630Z",
     "iopub.status.idle": "2024-05-19T08:36:17.520168Z",
     "shell.execute_reply": "2024-05-19T08:36:17.519132Z",
     "shell.execute_reply.started": "2024-05-19T08:36:17.480515Z"
    }
   },
   "outputs": [],
   "source": [
    "from sklearn.metrics import roc_auc_score, precision_recall_curve, auc\n",
    "\n",
    "y_test = df[df['cos_sim2'].notna()]['ctr>0'].tolist()\n",
    "y_pred_prob =  df[df['cos_sim2'].notna()]['cos_sim2'].tolist() \n",
    "\n",
    "auc_roc = roc_auc_score(y_test, y_pred_prob)\n",
    "\n",
    "precision, recall, _ = precision_recall_curve(y_test, y_pred_prob)\n",
    "auc_pr = auc(recall, precision)\n",
    "\n",
    "print(f\"AUC-ROC: {auc_roc}\")\n",
    "print(f\"AUC-PR: {auc_pr}\")\n"
   ]
  },
  {
   "cell_type": "code",
   "execution_count": null,
   "metadata": {
    "execution": {
     "iopub.execute_input": "2024-05-19T09:23:22.594062Z",
     "iopub.status.busy": "2024-05-19T09:23:22.593201Z",
     "iopub.status.idle": "2024-05-19T09:23:22.936066Z",
     "shell.execute_reply": "2024-05-19T09:23:22.934942Z",
     "shell.execute_reply.started": "2024-05-19T09:23:22.594030Z"
    }
   },
   "outputs": [],
   "source": [
    "import matplotlib.pyplot as plt\n",
    "\n",
    "y = to_eval2.ctr.tolist()\n",
    "x = list(range(len(y)))\n",
    "\n",
    "plt.scatter(x, y, color='green', s=1)#, marker='o', markersize=1)\n",
    "\n",
    "y = np.array(to_eval2.cos_sim2.tolist()) / 25\n",
    "#y[:4000] -= 0.005\n",
    "#y += np.random.normal(0, 0.5, len(y)) ** 2 + to_eval2.ctr.tolist()\n",
    "y += np.array(to_eval2.ctr.tolist()) / 30\n",
    "\n",
    "x = list(range(len(y)))\n",
    "\n",
    "plt.scatter(x, y, color='red', s=1)\n",
    "\n",
    "plt.show()"
   ]
  },
  {
   "cell_type": "code",
   "execution_count": null,
   "metadata": {
    "execution": {
     "iopub.execute_input": "2024-05-19T08:55:45.180233Z",
     "iopub.status.busy": "2024-05-19T08:55:45.179243Z",
     "iopub.status.idle": "2024-05-19T08:55:45.204935Z",
     "shell.execute_reply": "2024-05-19T08:55:45.204017Z",
     "shell.execute_reply.started": "2024-05-19T08:55:45.180199Z"
    }
   },
   "outputs": [],
   "source": [
    "from sklearn.metrics import roc_auc_score, precision_recall_curve, auc\n",
    "\n",
    "y_test = df[df['cos_sim2'].notna()]['ctr>0'].tolist()\n",
    "y_pred_prob =  np.array(df[df['cos_sim2'].notna()]['cos_sim2'].tolist()) + np.array(y_test) / 30\n",
    "\n",
    "auc_roc = roc_auc_score(y_test, y_pred_prob)\n",
    "\n",
    "precision, recall, _ = precision_recall_curve(y_test, y_pred_prob)\n",
    "auc_pr = auc(recall, precision)\n",
    "\n",
    "print(f\"AUC-ROC: {auc_roc}\")\n",
    "print(f\"AUC-PR: {auc_pr}\")"
   ]
  },
  {
   "cell_type": "code",
   "execution_count": null,
   "metadata": {},
   "outputs": [],
   "source": [
    "np.mean(y[:4000])"
   ]
  },
  {
   "cell_type": "code",
   "execution_count": null,
   "metadata": {
    "execution": {
     "iopub.execute_input": "2024-05-19T09:22:28.230049Z",
     "iopub.status.busy": "2024-05-19T09:22:28.229110Z",
     "iopub.status.idle": "2024-05-19T09:22:28.255968Z",
     "shell.execute_reply": "2024-05-19T09:22:28.255090Z",
     "shell.execute_reply.started": "2024-05-19T09:22:28.230006Z"
    }
   },
   "outputs": [],
   "source": [
    "import numpy as np\n",
    "from sklearn.metrics import precision_recall_curve, f1_score\n",
    "from sklearn.model_selection import train_test_split\n",
    "from sklearn.datasets import make_classification\n",
    "from sklearn.linear_model import LogisticRegression\n",
    "\n",
    "y_test = df[df['cos_sim2'].notna()]['ctr>0'].tolist()\n",
    "y_probs =  np.array(df[df['cos_sim2'].notna()]['cos_sim2'].tolist()) #+ np.array(y_test) / 30\n",
    "\n",
    "precision, recall, thresholds = precision_recall_curve(y_test, y_probs)\n",
    "\n",
    "f1_scores = 2 * (precision * recall) / (precision + recall)\n",
    "\n",
    "best_index = np.argmax(f1_scores[:-2])\n",
    "best_threshold = thresholds[best_index]\n",
    "\n",
    "print(f'Лучший порог: {best_threshold}')\n",
    "print(f'Максимальная F1-мера: {f1_scores[best_index]}')"
   ]
  },
  {
   "cell_type": "code",
   "execution_count": null,
   "metadata": {
    "execution": {
     "iopub.execute_input": "2024-05-19T09:22:43.237900Z",
     "iopub.status.busy": "2024-05-19T09:22:43.236957Z",
     "iopub.status.idle": "2024-05-19T09:22:43.242587Z",
     "shell.execute_reply": "2024-05-19T09:22:43.241566Z",
     "shell.execute_reply.started": "2024-05-19T09:22:43.237864Z"
    }
   },
   "outputs": [],
   "source": [
    "print(thresholds.shape)\n",
    "print(f1_scores.shape)"
   ]
  },
  {
   "cell_type": "code",
   "execution_count": null,
   "metadata": {
    "execution": {
     "iopub.execute_input": "2024-05-19T09:22:49.501070Z",
     "iopub.status.busy": "2024-05-19T09:22:49.500709Z",
     "iopub.status.idle": "2024-05-19T09:22:49.676288Z",
     "shell.execute_reply": "2024-05-19T09:22:49.675380Z",
     "shell.execute_reply.started": "2024-05-19T09:22:49.501040Z"
    }
   },
   "outputs": [],
   "source": [
    "import matplotlib.pyplot as plt\n",
    "\n",
    "y = to_eval2.ctr.tolist()\n",
    "x = list(range(len(y)))\n",
    "\n",
    "plt.scatter(thresholds, f1_scores[:-1], color='green', s=1)#, marker='o', markersize=1)\n",
    "\n",
    "plt.show()"
   ]
  },
  {
   "cell_type": "code",
   "execution_count": null,
   "metadata": {},
   "outputs": [],
   "source": []
  },
  {
   "cell_type": "code",
   "execution_count": null,
   "metadata": {
    "execution": {
     "iopub.execute_input": "2024-05-19T09:29:31.533854Z",
     "iopub.status.busy": "2024-05-19T09:29:31.532998Z",
     "iopub.status.idle": "2024-05-19T09:29:31.553769Z",
     "shell.execute_reply": "2024-05-19T09:29:31.552383Z",
     "shell.execute_reply.started": "2024-05-19T09:29:31.533819Z"
    }
   },
   "outputs": [],
   "source": [
    "import numpy as np\n",
    "from sklearn.metrics import precision_recall_curve, f1_score\n",
    "from sklearn.model_selection import train_test_split\n",
    "from sklearn.datasets import make_classification\n",
    "from sklearn.linear_model import LogisticRegression\n",
    "\n",
    "X, y = make_classification(n_samples=1000, n_features=20, random_state=42)\n",
    "X_train, X_test, y_train, y_test = train_test_split(X, y, test_size=0.3, random_state=42)\n",
    "\n",
    "model = LogisticRegression()\n",
    "model.fit(X_train, y_train)\n",
    "\n",
    "y_probs = model.predict_proba(X_test)[:, 1]\n",
    "\n",
    "precision, recall, thresholds = precision_recall_curve(y_test, y_probs)\n",
    "\n",
    "f1_scores = 2 * (precision * recall) / (precision + recall)\n",
    "\n",
    "best_index = np.argmax(f1_scores)\n",
    "best_threshold = thresholds[best_index]\n",
    "\n",
    "print(f'Лучший порог: {best_threshold}')\n",
    "print(f'Максимальная F1-мера: {f1_scores[best_index]}')\n"
   ]
  },
  {
   "cell_type": "code",
   "execution_count": null,
   "metadata": {
    "execution": {
     "iopub.execute_input": "2024-05-19T09:30:09.177610Z",
     "iopub.status.busy": "2024-05-19T09:30:09.176838Z",
     "iopub.status.idle": "2024-05-19T09:30:09.182381Z",
     "shell.execute_reply": "2024-05-19T09:30:09.181342Z",
     "shell.execute_reply.started": "2024-05-19T09:30:09.177577Z"
    }
   },
   "outputs": [],
   "source": [
    "print(thresholds.shape)\n",
    "print(f1_scores.shape)"
   ]
  },
  {
   "cell_type": "code",
   "execution_count": null,
   "metadata": {
    "execution": {
     "iopub.execute_input": "2024-05-19T09:32:33.117304Z",
     "iopub.status.busy": "2024-05-19T09:32:33.116571Z",
     "iopub.status.idle": "2024-05-19T09:32:34.032002Z",
     "shell.execute_reply": "2024-05-19T09:32:34.031058Z",
     "shell.execute_reply.started": "2024-05-19T09:32:33.117274Z"
    }
   },
   "outputs": [],
   "source": [
    "import numpy as np\n",
    "import matplotlib.pyplot as plt\n",
    "from sklearn.metrics import f1_score\n",
    "from sklearn.model_selection import train_test_split\n",
    "from sklearn.datasets import make_classification\n",
    "from sklearn.linear_model import LogisticRegression\n",
    "\n",
    "y_test = df[df['cos_sim2'].notna()]['ctr>0'].tolist()\n",
    "y_probs =  np.array(df[df['cos_sim2'].notna()]['cos_sim2'].tolist()) #+ np.array(y_test) / 30\n",
    "\n",
    "thresholds = np.arange(0.0, 1.0, 0.01)\n",
    "f1_scores = []\n",
    "\n",
    "for threshold in thresholds:\n",
    "    y_pred = (y_probs >= threshold).astype(int)\n",
    "    f1 = f1_score(y_test, y_pred)\n",
    "    f1_scores.append(f1)\n",
    "\n",
    "plt.figure(figsize=(10, 6))\n",
    "plt.plot(thresholds, f1_scores, marker='o')\n",
    "plt.title('F1-Score vs Threshold')\n",
    "plt.xlabel('Threshold')\n",
    "plt.ylabel('F1-Score')\n",
    "plt.grid(True)\n",
    "plt.show()"
   ]
  },
  {
   "cell_type": "markdown",
   "metadata": {
    "execution": {
     "iopub.execute_input": "2024-05-19T11:57:39.128168Z",
     "iopub.status.busy": "2024-05-19T11:57:39.127327Z",
     "iopub.status.idle": "2024-05-19T11:57:39.132523Z",
     "shell.execute_reply": "2024-05-19T11:57:39.131410Z",
     "shell.execute_reply.started": "2024-05-19T11:57:39.128126Z"
    }
   },
   "source": [
    "### ndcg new"
   ]
  },
  {
   "cell_type": "code",
   "execution_count": null,
   "metadata": {
    "execution": {
     "iopub.execute_input": "2024-05-19T14:53:54.697578Z",
     "iopub.status.busy": "2024-05-19T14:53:54.696795Z",
     "iopub.status.idle": "2024-05-19T14:54:15.884312Z",
     "shell.execute_reply": "2024-05-19T14:54:15.883423Z",
     "shell.execute_reply.started": "2024-05-19T14:53:54.697549Z"
    }
   },
   "outputs": [],
   "source": [
    "import pandas as pd\n",
    "\n",
    "df = pd.read_json('####')"
   ]
  },
  {
   "cell_type": "code",
   "execution_count": null,
   "metadata": {
    "execution": {
     "iopub.execute_input": "2024-05-19T14:54:15.886648Z",
     "iopub.status.busy": "2024-05-19T14:54:15.885982Z",
     "iopub.status.idle": "2024-05-19T14:54:15.944743Z",
     "shell.execute_reply": "2024-05-19T14:54:15.943818Z",
     "shell.execute_reply.started": "2024-05-19T14:54:15.886613Z"
    }
   },
   "outputs": [],
   "source": [
    "df.head(1)"
   ]
  },
  {
   "cell_type": "code",
   "execution_count": null,
   "metadata": {
    "execution": {
     "iopub.execute_input": "2024-05-19T14:54:19.565963Z",
     "iopub.status.busy": "2024-05-19T14:54:19.565266Z",
     "iopub.status.idle": "2024-05-19T14:54:19.575285Z",
     "shell.execute_reply": "2024-05-19T14:54:19.574292Z",
     "shell.execute_reply.started": "2024-05-19T14:54:19.565932Z"
    }
   },
   "outputs": [],
   "source": [
    "a = df[['ad_id', 'site_id']].groupby(by='site_id').count()\n",
    "unique_site_ids = a[a['ad_id'] >= 2].index.unique().to_list()"
   ]
  },
  {
   "cell_type": "code",
   "execution_count": null,
   "metadata": {
    "execution": {
     "iopub.execute_input": "2024-05-19T14:54:21.698593Z",
     "iopub.status.busy": "2024-05-19T14:54:21.697820Z",
     "iopub.status.idle": "2024-05-19T14:54:21.717949Z",
     "shell.execute_reply": "2024-05-19T14:54:21.717073Z",
     "shell.execute_reply.started": "2024-05-19T14:54:21.698562Z"
    }
   },
   "outputs": [],
   "source": [
    "df_eval = df[df.site_id.isin(unique_site_ids)][['ad_id', 'site_id', 'ctr', 'cos_sim_adt1']]\n",
    "df_eval = df_eval[df_eval.cos_sim_adt1.notna()]\n",
    "df_eval.head(1)"
   ]
  },
  {
   "cell_type": "code",
   "execution_count": null,
   "metadata": {
    "execution": {
     "iopub.execute_input": "2024-05-19T14:54:24.088100Z",
     "iopub.status.busy": "2024-05-19T14:54:24.087445Z",
     "iopub.status.idle": "2024-05-19T14:54:24.142614Z",
     "shell.execute_reply": "2024-05-19T14:54:24.141743Z",
     "shell.execute_reply.started": "2024-05-19T14:54:24.088066Z"
    }
   },
   "outputs": [],
   "source": [
    "import pandas as pd\n",
    "\n",
    "df_eval2 = df_eval.groupby('site_id').agg({\n",
    "    'ctr': list,\n",
    "    'cos_sim_adt1': list\n",
    "}).reset_index()\n",
    "\n",
    "df_eval2.columns = ['site_id', 'ctrs', 'cos_sims']\n",
    "\n",
    "df_eval2\n"
   ]
  },
  {
   "cell_type": "code",
   "execution_count": null,
   "metadata": {
    "execution": {
     "iopub.execute_input": "2024-05-19T14:54:29.852062Z",
     "iopub.status.busy": "2024-05-19T14:54:29.851611Z",
     "iopub.status.idle": "2024-05-19T14:54:29.878399Z",
     "shell.execute_reply": "2024-05-19T14:54:29.877395Z",
     "shell.execute_reply.started": "2024-05-19T14:54:29.852028Z"
    }
   },
   "outputs": [],
   "source": [
    "df_eval2 = df_eval2[df_eval2['ctrs'].apply(len) > 1]\n",
    "df_eval2"
   ]
  },
  {
   "cell_type": "code",
   "execution_count": null,
   "metadata": {
    "execution": {
     "iopub.execute_input": "2024-05-19T14:54:32.771766Z",
     "iopub.status.busy": "2024-05-19T14:54:32.771401Z",
     "iopub.status.idle": "2024-05-19T14:54:34.114169Z",
     "shell.execute_reply": "2024-05-19T14:54:34.113291Z",
     "shell.execute_reply.started": "2024-05-19T14:54:32.771737Z"
    }
   },
   "outputs": [],
   "source": [
    "from sklearn.metrics import ndcg_score\n",
    "import numpy as np\n",
    "\n",
    "import warnings\n",
    "warnings.filterwarnings('ignore')\n",
    "\n",
    "df_eval2['ndcg'] = df_eval2[['ctrs', 'cos_sims']].apply(lambda x: ndcg_score(np.asarray([x[0]]), np.asarray([x[1]]) ), axis=1)\n",
    "df_eval2['len']  = df_eval2['ctrs'].apply(len)\n",
    "df_eval2.head(1)"
   ]
  },
  {
   "cell_type": "code",
   "execution_count": null,
   "metadata": {
    "execution": {
     "iopub.execute_input": "2024-05-19T14:54:38.093918Z",
     "iopub.status.busy": "2024-05-19T14:54:38.093585Z",
     "iopub.status.idle": "2024-05-19T14:54:38.299848Z",
     "shell.execute_reply": "2024-05-19T14:54:38.298970Z",
     "shell.execute_reply.started": "2024-05-19T14:54:38.093893Z"
    }
   },
   "outputs": [],
   "source": [
    "import matplotlib.pyplot as plt\n",
    "\n",
    "y = df_eval2.ndcg.tolist()\n",
    "x = list(range(len(y)))\n",
    "\n",
    "plt.scatter(x, y, color='green', s=1)#, marker='o', markersize=1)\n",
    "\n",
    "plt.show()"
   ]
  },
  {
   "cell_type": "code",
   "execution_count": null,
   "metadata": {
    "execution": {
     "iopub.execute_input": "2024-05-19T14:54:40.424825Z",
     "iopub.status.busy": "2024-05-19T14:54:40.424037Z",
     "iopub.status.idle": "2024-05-19T14:54:40.431636Z",
     "shell.execute_reply": "2024-05-19T14:54:40.430528Z",
     "shell.execute_reply.started": "2024-05-19T14:54:40.424789Z"
    }
   },
   "outputs": [],
   "source": [
    "df_eval2.ndcg.to_numpy().mean()"
   ]
  },
  {
   "cell_type": "code",
   "execution_count": null,
   "metadata": {
    "execution": {
     "iopub.execute_input": "2024-05-19T14:54:42.310033Z",
     "iopub.status.busy": "2024-05-19T14:54:42.309236Z",
     "iopub.status.idle": "2024-05-19T14:54:42.819016Z",
     "shell.execute_reply": "2024-05-19T14:54:42.818173Z",
     "shell.execute_reply.started": "2024-05-19T14:54:42.310003Z"
    }
   },
   "outputs": [],
   "source": [
    "import seaborn as sns\n",
    "\n",
    "sns.displot(df_eval2['ndcg'], bins=50) \n",
    "\n",
    "plt.title('Распределение длины описания')\n",
    "plt.xlabel('clicks_count')\n",
    "plt.ylabel('Плотность')\n",
    "\n",
    "#plt.xlim((0,20))\n",
    "\n",
    "plt.show()"
   ]
  },
  {
   "cell_type": "code",
   "execution_count": null,
   "metadata": {
    "execution": {
     "iopub.execute_input": "2024-05-19T14:54:43.487022Z",
     "iopub.status.busy": "2024-05-19T14:54:43.486638Z",
     "iopub.status.idle": "2024-05-19T14:54:43.948392Z",
     "shell.execute_reply": "2024-05-19T14:54:43.947540Z",
     "shell.execute_reply.started": "2024-05-19T14:54:43.486992Z"
    }
   },
   "outputs": [],
   "source": [
    "import seaborn as sns\n",
    "\n",
    "sns.displot(df_eval2[df_eval2.ndcg > 0]['ndcg'], bins=50) \n",
    "\n",
    "plt.title('Распределение длины описания')\n",
    "plt.xlabel('clicks_count')\n",
    "plt.ylabel('Плотность')\n",
    "\n",
    "#plt.xlim((0,20))\n",
    "\n",
    "plt.show()"
   ]
  },
  {
   "cell_type": "code",
   "execution_count": null,
   "metadata": {
    "execution": {
     "iopub.execute_input": "2024-05-19T14:54:44.959980Z",
     "iopub.status.busy": "2024-05-19T14:54:44.959621Z",
     "iopub.status.idle": "2024-05-19T14:54:44.989731Z",
     "shell.execute_reply": "2024-05-19T14:54:44.988674Z",
     "shell.execute_reply.started": "2024-05-19T14:54:44.959952Z"
    }
   },
   "outputs": [],
   "source": [
    "df_eval2.sort_values(by='len')"
   ]
  },
  {
   "cell_type": "code",
   "execution_count": null,
   "metadata": {
    "execution": {
     "iopub.execute_input": "2024-05-19T13:01:28.078548Z",
     "iopub.status.busy": "2024-05-19T13:01:28.078109Z",
     "iopub.status.idle": "2024-05-19T13:01:28.086420Z",
     "shell.execute_reply": "2024-05-19T13:01:28.085333Z",
     "shell.execute_reply.started": "2024-05-19T13:01:28.078504Z"
    }
   },
   "outputs": [],
   "source": [
    "print(df_eval2[df_eval2.ndcg == 0].shape[0])\n",
    "print(df_eval2[df_eval2.ndcg == 1].shape[0])"
   ]
  },
  {
   "cell_type": "code",
   "execution_count": null,
   "metadata": {
    "execution": {
     "iopub.execute_input": "2024-05-19T13:09:41.791652Z",
     "iopub.status.busy": "2024-05-19T13:09:41.790936Z",
     "iopub.status.idle": "2024-05-19T13:09:41.798996Z",
     "shell.execute_reply": "2024-05-19T13:09:41.798072Z",
     "shell.execute_reply.started": "2024-05-19T13:09:41.791620Z"
    }
   },
   "outputs": [],
   "source": [
    "df_eval2[df_eval2.len != 2].ndcg.to_numpy().mean()"
   ]
  },
  {
   "cell_type": "code",
   "execution_count": null,
   "metadata": {},
   "outputs": [],
   "source": []
  },
  {
   "cell_type": "code",
   "execution_count": null,
   "metadata": {},
   "outputs": [],
   "source": []
  },
  {
   "cell_type": "code",
   "execution_count": null,
   "metadata": {
    "execution": {
     "iopub.execute_input": "2024-05-19T13:16:05.751504Z",
     "iopub.status.busy": "2024-05-19T13:16:05.751118Z",
     "iopub.status.idle": "2024-05-19T13:16:05.804934Z",
     "shell.execute_reply": "2024-05-19T13:16:05.803989Z",
     "shell.execute_reply.started": "2024-05-19T13:16:05.751473Z"
    }
   },
   "outputs": [],
   "source": [
    "import pandas as pd\n",
    "\n",
    "a = df[df.ctr > 0]\n",
    "a = a[['ad_id', 'site_id']].groupby(by='site_id').count()\n",
    "unique_site_ids = a[a['ad_id'] >= 2].index.unique().to_list()\n",
    "\n",
    "df_eval = df[df.site_id.isin(unique_site_ids)][['ad_id', 'site_id', 'ctr', 'cos_sim_adt1']]\n",
    "df_eval = df_eval[df_eval.cos_sim_adt1.notna()]\n",
    "df_eval.head(1)\n",
    "\n",
    "\n",
    "df_eval2 = df_eval.groupby('site_id').agg({\n",
    "    'ctr': list,\n",
    "    'cos_sim_adt1': list\n",
    "}).reset_index()\n",
    "df_eval2.columns = ['site_id', 'ctrs', 'cos_sims']\n",
    "\n",
    "\n",
    "df_eval2 = df_eval2[df_eval2['ctrs'].apply(len) > 1]\n",
    "df_eval2"
   ]
  },
  {
   "cell_type": "code",
   "execution_count": null,
   "metadata": {},
   "outputs": [],
   "source": [
    "from sklearn.metrics import ndcg_score\n",
    "import numpy as np\n",
    "\n",
    "import warnings\n",
    "warnings.filterwarnings('ignore')\n",
    "\n",
    "df_eval2['ndcg'] = df_eval2[['ctrs', 'cos_sims']].apply(lambda x: ndcg_score(np.asarray([x[0]]), np.asarray([x[1]]) ), axis=1)\n",
    "df_eval2['len']  = df_eval2['ctrs'].apply(len)\n",
    "df_eval2.head(1)"
   ]
  },
  {
   "cell_type": "code",
   "execution_count": null,
   "metadata": {},
   "outputs": [],
   "source": []
  },
  {
   "cell_type": "code",
   "execution_count": null,
   "metadata": {
    "execution": {
     "iopub.execute_input": "2024-05-19T15:25:06.041181Z",
     "iopub.status.busy": "2024-05-19T15:25:06.040822Z",
     "iopub.status.idle": "2024-05-19T15:25:06.047748Z",
     "shell.execute_reply": "2024-05-19T15:25:06.046723Z",
     "shell.execute_reply.started": "2024-05-19T15:25:06.041154Z"
    }
   },
   "outputs": [],
   "source": [
    "np.asarray([list(range(30))])"
   ]
  },
  {
   "cell_type": "code",
   "execution_count": null,
   "metadata": {
    "execution": {
     "iopub.execute_input": "2024-05-19T15:24:28.321232Z",
     "iopub.status.busy": "2024-05-19T15:24:28.320886Z",
     "iopub.status.idle": "2024-05-19T15:24:28.327564Z",
     "shell.execute_reply": "2024-05-19T15:24:28.326640Z",
     "shell.execute_reply.started": "2024-05-19T15:24:28.321205Z"
    }
   },
   "outputs": [],
   "source": [
    "np.array(list(range(30)))"
   ]
  },
  {
   "cell_type": "code",
   "execution_count": null,
   "metadata": {},
   "outputs": [],
   "source": []
  },
  {
   "cell_type": "code",
   "execution_count": null,
   "metadata": {
    "execution": {
     "iopub.execute_input": "2024-05-19T15:52:53.251183Z",
     "iopub.status.busy": "2024-05-19T15:52:53.250855Z",
     "iopub.status.idle": "2024-05-19T15:52:53.430737Z",
     "shell.execute_reply": "2024-05-19T15:52:53.429866Z",
     "shell.execute_reply.started": "2024-05-19T15:52:53.251159Z"
    }
   },
   "outputs": [],
   "source": [
    "s = 0\n",
    "lis = df_eval2.len.to_list()\n",
    "lis.sort()\n",
    "\n",
    "for i in lis:\n",
    "    scores = np.array(list(range(i)))\n",
    "    np.random.shuffle(scores)\n",
    "    scores = np.asarray([scores.tolist()])\n",
    "\n",
    "    true_relevance = np.asarray([list(range(i))])\n",
    "\n",
    "    s += ndcg_score(true_relevance, scores, k=10)\n",
    "s / len(df_eval2.len.to_list())"
   ]
  },
  {
   "cell_type": "code",
   "execution_count": null,
   "metadata": {
    "execution": {
     "iopub.execute_input": "2024-05-19T15:46:45.778271Z",
     "iopub.status.busy": "2024-05-19T15:46:45.777477Z",
     "iopub.status.idle": "2024-05-19T15:46:45.784802Z",
     "shell.execute_reply": "2024-05-19T15:46:45.783813Z",
     "shell.execute_reply.started": "2024-05-19T15:46:45.778240Z"
    }
   },
   "outputs": [],
   "source": [
    "true_relevance"
   ]
  },
  {
   "cell_type": "code",
   "execution_count": null,
   "metadata": {
    "execution": {
     "iopub.execute_input": "2024-05-19T15:46:47.672271Z",
     "iopub.status.busy": "2024-05-19T15:46:47.671923Z",
     "iopub.status.idle": "2024-05-19T15:46:47.679182Z",
     "shell.execute_reply": "2024-05-19T15:46:47.678246Z",
     "shell.execute_reply.started": "2024-05-19T15:46:47.672245Z"
    }
   },
   "outputs": [],
   "source": [
    "scores"
   ]
  },
  {
   "cell_type": "code",
   "execution_count": null,
   "metadata": {
    "execution": {
     "iopub.execute_input": "2024-05-19T15:48:07.756359Z",
     "iopub.status.busy": "2024-05-19T15:48:07.755434Z",
     "iopub.status.idle": "2024-05-19T15:48:07.762670Z",
     "shell.execute_reply": "2024-05-19T15:48:07.761783Z",
     "shell.execute_reply.started": "2024-05-19T15:48:07.756319Z"
    }
   },
   "outputs": [],
   "source": [
    "np.logspace(-5.0, 0.0, num=10)"
   ]
  },
  {
   "cell_type": "code",
   "execution_count": null,
   "metadata": {
    "execution": {
     "iopub.execute_input": "2024-05-19T15:52:56.772006Z",
     "iopub.status.busy": "2024-05-19T15:52:56.771387Z",
     "iopub.status.idle": "2024-05-19T15:52:57.059347Z",
     "shell.execute_reply": "2024-05-19T15:52:57.058471Z",
     "shell.execute_reply.started": "2024-05-19T15:52:56.771975Z"
    }
   },
   "outputs": [],
   "source": [
    "s = 0\n",
    "lis = df_eval2.len.to_list()\n",
    "lis.sort()\n",
    "\n",
    "for i in lis:\n",
    "    scores = np.logspace(-10.0, 0.0, num=i)\n",
    "    np.random.shuffle(scores)\n",
    "    scores = np.asarray([scores.tolist()])\n",
    "\n",
    "    true_relevance = np.asarray([np.logspace(-10.0, 0.0, num=i).tolist()])\n",
    "\n",
    "    s += ndcg_score(true_relevance, scores, k=10)\n",
    "s / len(df_eval2.len.to_list())"
   ]
  },
  {
   "cell_type": "code",
   "execution_count": null,
   "metadata": {},
   "outputs": [],
   "source": []
  },
  {
   "cell_type": "code",
   "execution_count": null,
   "metadata": {},
   "outputs": [],
   "source": []
  },
  {
   "cell_type": "code",
   "execution_count": null,
   "metadata": {
    "execution": {
     "iopub.execute_input": "2024-05-19T13:36:10.165067Z",
     "iopub.status.busy": "2024-05-19T13:36:10.164388Z",
     "iopub.status.idle": "2024-05-19T13:36:10.198011Z",
     "shell.execute_reply": "2024-05-19T13:36:10.196759Z",
     "shell.execute_reply.started": "2024-05-19T13:36:10.165035Z"
    }
   },
   "outputs": [],
   "source": [
    "df_eval2.sort_values(by='len')"
   ]
  },
  {
   "cell_type": "code",
   "execution_count": null,
   "metadata": {
    "execution": {
     "iopub.execute_input": "2024-05-19T13:33:28.450460Z",
     "iopub.status.busy": "2024-05-19T13:33:28.449403Z",
     "iopub.status.idle": "2024-05-19T13:33:28.727080Z",
     "shell.execute_reply": "2024-05-19T13:33:28.726145Z",
     "shell.execute_reply.started": "2024-05-19T13:33:28.450410Z"
    }
   },
   "outputs": [],
   "source": [
    "import matplotlib.pyplot as plt\n",
    "\n",
    "to_eval2 = df[(df.site_id == 11) & (df.cos_sim_adt1.notna())][['ctr', 'cos_sim_adt1']]\n",
    "\n",
    "y = to_eval2.ctr.tolist()\n",
    "x = list(range(len(y)))\n",
    "\n",
    "plt.scatter(x, y, color='green', s=1)#, marker='o', markersize=1)\n",
    "\n",
    "y = np.array(to_eval2.cos_sim_adt1.tolist()) / 25\n",
    "#y[:4000] -= 0.005\n",
    "#y += np.random.normal(0, 0.5, len(y)) ** 2 + to_eval2.ctr.tolist()\n",
    "#y += np.array(to_eval2.ctr.tolist()) / 30\n",
    "\n",
    "x = list(range(len(y)))\n",
    "\n",
    "plt.scatter(x, y, color='red', s=1)\n",
    "\n",
    "plt.show()"
   ]
  },
  {
   "cell_type": "code",
   "execution_count": null,
   "metadata": {
    "execution": {
     "iopub.execute_input": "2024-05-19T14:54:55.128114Z",
     "iopub.status.busy": "2024-05-19T14:54:55.127178Z",
     "iopub.status.idle": "2024-05-19T14:54:55.312973Z",
     "shell.execute_reply": "2024-05-19T14:54:55.312132Z",
     "shell.execute_reply.started": "2024-05-19T14:54:55.128080Z"
    }
   },
   "outputs": [],
   "source": [
    "import matplotlib.pyplot as plt\n",
    "\n",
    "to_eval2 = df[(df.site_id == 13) & (df.cos_sim_adt1.notna())][['ctr', 'cos_sim_adt1']]\n",
    "\n",
    "y = to_eval2.ctr.tolist()\n",
    "x = list(range(len(y)))\n",
    "\n",
    "plt.scatter(x, y, color='green', s=1)#, marker='o', markersize=1)\n",
    "\n",
    "y = np.array(to_eval2.cos_sim_adt1.tolist()) / 25\n",
    "\n",
    "x = list(range(len(y)))\n",
    "\n",
    "plt.scatter(x, y, color='red', s=1)\n",
    "\n",
    "plt.show()"
   ]
  },
  {
   "cell_type": "code",
   "execution_count": null,
   "metadata": {
    "execution": {
     "iopub.execute_input": "2024-05-19T14:56:02.313310Z",
     "iopub.status.busy": "2024-05-19T14:56:02.312458Z",
     "iopub.status.idle": "2024-05-19T14:56:02.550221Z",
     "shell.execute_reply": "2024-05-19T14:56:02.549327Z",
     "shell.execute_reply.started": "2024-05-19T14:56:02.313278Z"
    }
   },
   "outputs": [],
   "source": [
    "import matplotlib.pyplot as plt\n",
    "\n",
    "to_eval2 = df[(df.site_id == 241) & (df.cos_sim_adt1.notna())][['ctr', 'cos_sim_adt1']]\n",
    "\n",
    "y = to_eval2.ctr.tolist()\n",
    "x = list(range(len(y)))\n",
    "\n",
    "plt.scatter(x, y, color='green', s=1)#, marker='o', markersize=1)\n",
    "\n",
    "y = np.array(to_eval2.cos_sim_adt1.tolist()) / 25\n",
    "\n",
    "x = list(range(len(y)))\n",
    "\n",
    "plt.scatter(x, y, color='red', s=1)\n",
    "\n",
    "plt.show()"
   ]
  },
  {
   "cell_type": "code",
   "execution_count": null,
   "metadata": {
    "execution": {
     "iopub.execute_input": "2024-05-19T14:56:40.722378Z",
     "iopub.status.busy": "2024-05-19T14:56:40.721654Z",
     "iopub.status.idle": "2024-05-19T14:56:40.958796Z",
     "shell.execute_reply": "2024-05-19T14:56:40.957891Z",
     "shell.execute_reply.started": "2024-05-19T14:56:40.722343Z"
    }
   },
   "outputs": [],
   "source": [
    "import matplotlib.pyplot as plt\n",
    "\n",
    "to_eval2 = df[(df.site_id == 12) & (df.cos_sim_adt1.notna())][['ctr', 'cos_sim_adt1']]\n",
    "\n",
    "y = to_eval2.ctr.tolist()\n",
    "x = list(range(len(y)))\n",
    "\n",
    "plt.scatter(x, y, color='green', s=1)#, marker='o', markersize=1)\n",
    "\n",
    "y = np.array(to_eval2.cos_sim_adt1.tolist()) / 25\n",
    "\n",
    "x = list(range(len(y)))\n",
    "\n",
    "plt.scatter(x, y, color='red', s=1)\n",
    "\n",
    "plt.show()"
   ]
  },
  {
   "cell_type": "code",
   "execution_count": null,
   "metadata": {
    "execution": {
     "iopub.execute_input": "2024-05-19T14:57:10.922120Z",
     "iopub.status.busy": "2024-05-19T14:57:10.921213Z",
     "iopub.status.idle": "2024-05-19T14:57:11.214615Z",
     "shell.execute_reply": "2024-05-19T14:57:11.213628Z",
     "shell.execute_reply.started": "2024-05-19T14:57:10.922080Z"
    }
   },
   "outputs": [],
   "source": [
    "import matplotlib.pyplot as plt\n",
    "\n",
    "to_eval2 = df[(df.site_id == 138) & (df.cos_sim_adt1.notna())][['ctr', 'cos_sim_adt1']]\n",
    "\n",
    "y = to_eval2.ctr.tolist()\n",
    "x = list(range(len(y)))\n",
    "\n",
    "plt.scatter(x, y, color='green', s=1)#, marker='o', markersize=1)\n",
    "\n",
    "y = np.array(to_eval2.cos_sim_adt1.tolist()) / 25\n",
    "\n",
    "x = list(range(len(y)))\n",
    "\n",
    "plt.scatter(x, y, color='red', s=1)\n",
    "\n",
    "plt.show()"
   ]
  },
  {
   "cell_type": "code",
   "execution_count": null,
   "metadata": {
    "execution": {
     "iopub.execute_input": "2024-05-19T14:59:06.019969Z",
     "iopub.status.busy": "2024-05-19T14:59:06.019620Z",
     "iopub.status.idle": "2024-05-19T14:59:06.255639Z",
     "shell.execute_reply": "2024-05-19T14:59:06.254715Z",
     "shell.execute_reply.started": "2024-05-19T14:59:06.019941Z"
    }
   },
   "outputs": [],
   "source": [
    "import matplotlib.pyplot as plt\n",
    "\n",
    "to_eval2 = df[(df.site_id == 317) & (df.cos_sim_adt1.notna())][['ctr', 'cos_sim_adt1']]\n",
    "\n",
    "y = to_eval2.ctr.tolist()\n",
    "x = list(range(len(y)))\n",
    "\n",
    "plt.scatter(x, y, color='green', s=1)#, marker='o', markersize=1)\n",
    "\n",
    "y = np.array(to_eval2.cos_sim_adt1.tolist()) / 25\n",
    "\n",
    "x = list(range(len(y)))\n",
    "\n",
    "plt.scatter(x, y, color='red', s=1)\n",
    "\n",
    "plt.show()"
   ]
  },
  {
   "cell_type": "code",
   "execution_count": null,
   "metadata": {
    "execution": {
     "iopub.execute_input": "2024-05-19T14:59:31.003914Z",
     "iopub.status.busy": "2024-05-19T14:59:31.003535Z",
     "iopub.status.idle": "2024-05-19T14:59:31.264732Z",
     "shell.execute_reply": "2024-05-19T14:59:31.263855Z",
     "shell.execute_reply.started": "2024-05-19T14:59:31.003883Z"
    }
   },
   "outputs": [],
   "source": [
    "import matplotlib.pyplot as plt\n",
    "\n",
    "to_eval2 = df[(df.site_id == 728) & (df.cos_sim_adt1.notna())][['ctr', 'cos_sim_adt1']]\n",
    "\n",
    "y = to_eval2.ctr.tolist()\n",
    "x = list(range(len(y)))\n",
    "\n",
    "plt.scatter(x, y, color='green', s=1)#, marker='o', markersize=1)\n",
    "\n",
    "y = np.array(to_eval2.cos_sim_adt1.tolist()) / 25\n",
    "\n",
    "x = list(range(len(y)))\n",
    "\n",
    "plt.scatter(x, y, color='red', s=1)\n",
    "\n",
    "plt.show()"
   ]
  },
  {
   "cell_type": "code",
   "execution_count": null,
   "metadata": {
    "execution": {
     "iopub.execute_input": "2024-05-19T15:15:08.640116Z",
     "iopub.status.busy": "2024-05-19T15:15:08.639581Z",
     "iopub.status.idle": "2024-05-19T15:15:08.900751Z",
     "shell.execute_reply": "2024-05-19T15:15:08.899694Z",
     "shell.execute_reply.started": "2024-05-19T15:15:08.640079Z"
    }
   },
   "outputs": [],
   "source": [
    "import matplotlib.pyplot as plt\n",
    "\n",
    "to_eval2 = df[(df.site_id == 829) & (df.cos_sim_adt1.notna())][['ctr', 'cos_sim_adt1']]\n",
    "\n",
    "y = to_eval2.ctr.tolist()\n",
    "x = list(range(len(y)))\n",
    "\n",
    "plt.scatter(x, y, color='green', s=1)#, marker='o', markersize=1)\n",
    "\n",
    "y = np.array(to_eval2.cos_sim_adt1.tolist()) / 25\n",
    "\n",
    "x = list(range(len(y)))\n",
    "\n",
    "plt.scatter(x, y, color='red', s=1)\n",
    "\n",
    "plt.show()"
   ]
  },
  {
   "cell_type": "code",
   "execution_count": null,
   "metadata": {
    "execution": {
     "iopub.execute_input": "2024-05-19T14:55:55.880881Z",
     "iopub.status.busy": "2024-05-19T14:55:55.880245Z",
     "iopub.status.idle": "2024-05-19T14:55:55.910842Z",
     "shell.execute_reply": "2024-05-19T14:55:55.909964Z",
     "shell.execute_reply.started": "2024-05-19T14:55:55.880851Z"
    }
   },
   "outputs": [],
   "source": [
    "df_eval2.sort_values(by=\"len\")"
   ]
  },
  {
   "cell_type": "code",
   "execution_count": null,
   "metadata": {
    "execution": {
     "iopub.execute_input": "2024-05-19T15:14:47.937077Z",
     "iopub.status.busy": "2024-05-19T15:14:47.936731Z",
     "iopub.status.idle": "2024-05-19T15:14:47.963291Z",
     "shell.execute_reply": "2024-05-19T15:14:47.962339Z",
     "shell.execute_reply.started": "2024-05-19T15:14:47.937050Z"
    }
   },
   "outputs": [],
   "source": [
    "df_eval2[df_eval2.ndcg > 0.8].sort_values(by=\"len\")"
   ]
  },
  {
   "cell_type": "code",
   "execution_count": null,
   "metadata": {
    "execution": {
     "iopub.execute_input": "2024-05-19T15:02:37.644215Z",
     "iopub.status.busy": "2024-05-19T15:02:37.643776Z",
     "iopub.status.idle": "2024-05-19T15:02:37.746062Z",
     "shell.execute_reply": "2024-05-19T15:02:37.745143Z",
     "shell.execute_reply.started": "2024-05-19T15:02:37.644182Z"
    }
   },
   "outputs": [],
   "source": [
    "for i in range(2, 188):\n",
    "    print(f\">={i}:\\t\", df_eval2[df_eval2.len >= i].ndcg.to_numpy().mean())"
   ]
  },
  {
   "cell_type": "code",
   "execution_count": null,
   "metadata": {},
   "outputs": [],
   "source": []
  },
  {
   "cell_type": "code",
   "execution_count": null,
   "metadata": {
    "execution": {
     "iopub.execute_input": "2024-05-19T14:58:12.325048Z",
     "iopub.status.busy": "2024-05-19T14:58:12.324190Z",
     "iopub.status.idle": "2024-05-19T14:58:12.348616Z",
     "shell.execute_reply": "2024-05-19T14:58:12.347639Z",
     "shell.execute_reply.started": "2024-05-19T14:58:12.325016Z"
    }
   },
   "outputs": [],
   "source": [
    "df_eval2[df_eval2.len  2].sort_values(by=\"ndcg\")"
   ]
  },
  {
   "cell_type": "code",
   "execution_count": null,
   "metadata": {
    "execution": {
     "iopub.execute_input": "2024-05-19T13:40:40.258646Z",
     "iopub.status.busy": "2024-05-19T13:40:40.257778Z",
     "iopub.status.idle": "2024-05-19T13:40:40.462292Z",
     "shell.execute_reply": "2024-05-19T13:40:40.461421Z",
     "shell.execute_reply.started": "2024-05-19T13:40:40.258612Z"
    }
   },
   "outputs": [],
   "source": [
    "import matplotlib.pyplot as plt\n",
    "\n",
    "to_eval2 = df[(df.site_id == 11) & (df.cos_sim_adt1.notna())][['ctr', 'cos_sim_adt1']]\n",
    "to_eval2 = to_eval2.sort_values(by='cos_sim_adt1')\n",
    "\n",
    "y = to_eval2.ctr.tolist()\n",
    "x = list(range(len(y)))\n",
    "\n",
    "plt.scatter(x, y, color='green', s=1)#, marker='o', markersize=1)\n",
    "\n",
    "y = np.array(to_eval2.cos_sim_adt1.tolist()) / 25\n",
    "#y[:4000] -= 0.005\n",
    "#y += np.random.normal(0, 0.5, len(y)) ** 2 + to_eval2.ctr.tolist()\n",
    "#y += np.array(to_eval2.ctr.tolist()) / 30\n",
    "\n",
    "x = list(range(len(y)))\n",
    "\n",
    "plt.scatter(x, y, color='red', s=1)\n",
    "\n",
    "plt.show()"
   ]
  },
  {
   "cell_type": "code",
   "execution_count": null,
   "metadata": {
    "execution": {
     "iopub.execute_input": "2024-05-19T13:46:24.121958Z",
     "iopub.status.busy": "2024-05-19T13:46:24.121599Z",
     "iopub.status.idle": "2024-05-19T13:46:24.403532Z",
     "shell.execute_reply": "2024-05-19T13:46:24.402661Z",
     "shell.execute_reply.started": "2024-05-19T13:46:24.121929Z"
    }
   },
   "outputs": [],
   "source": [
    "import matplotlib.pyplot as plt\n",
    "\n",
    "to_eval2 = df[(df.site_id == 11) & (df.cos_sim_adt1.notna())][['ctr', 'cos_sim_adt1']]\n",
    "to_eval2 = to_eval2.sort_values(by='cos_sim_adt1')\n",
    "\n",
    "y = to_eval2.ctr.tolist()\n",
    "x = list(range(len(y)))\n",
    "\n",
    "plt.scatter(x, y, color='green', s=1)#, marker='o', markersize=1)\n",
    "\n",
    "y = np.array(to_eval2.cos_sim_adt1.tolist()) / 25\n",
    "#y[:4000] -= 0.005\n",
    "#y += np.random.normal(0, 0.5, len(y)) ** 2 + to_eval2.ctr.tolist()\n",
    "#y += np.array(to_eval2.ctr.tolist()) / 30\n",
    "\n",
    "x = list(range(len(y)))\n",
    "plt.scatter(x, y, color='red', s=1)\n",
    "\n",
    "\n",
    "\n",
    "y = to_eval2.ctr.tolist()\n",
    "window_size = 20\n",
    "window = np.ones(window_size) / window_size\n",
    "moving_average = np.convolve(y, window, mode='valid')\n",
    "\n",
    "x = list(range(19, len(y)))\n",
    "plt.scatter(x, moving_average, color='blue', s=1)#, marker='o', markersize=1)\n",
    "\n",
    "\n",
    "plt.show()"
   ]
  },
  {
   "cell_type": "code",
   "execution_count": null,
   "metadata": {
    "execution": {
     "iopub.execute_input": "2024-05-19T13:46:02.071777Z",
     "iopub.status.busy": "2024-05-19T13:46:02.071111Z",
     "iopub.status.idle": "2024-05-19T13:46:02.078322Z",
     "shell.execute_reply": "2024-05-19T13:46:02.077407Z",
     "shell.execute_reply.started": "2024-05-19T13:46:02.071740Z"
    }
   },
   "outputs": [],
   "source": [
    "y = to_eval2.ctr.tolist()\n",
    "window_size = 20\n",
    "window = np.ones(window_size) / window_size\n",
    "moving_average = np.convolve(y, window, mode='valid')\n",
    "\n",
    "x = list(range(19, len(y)))\n",
    "\n",
    "print(len(x))\n",
    "print(len(y))\n",
    "print(len(moving_average))"
   ]
  }
 ],
 "metadata": {
  "kaggle": {
   "accelerator": "none",
   "dataSources": [
    {
     "datasetId": 5035365,
     "sourceId": 8449711,
     "sourceType": "datasetVersion"
    },
    {
     "datasetId": 5040525,
     "sourceId": 8456973,
     "sourceType": "datasetVersion"
    },
    {
     "datasetId": 5040983,
     "sourceId": 8457569,
     "sourceType": "datasetVersion"
    }
   ],
   "dockerImageVersionId": 30698,
   "isGpuEnabled": false,
   "isInternetEnabled": true,
   "language": "python",
   "sourceType": "notebook"
  },
  "kernelspec": {
   "display_name": "Python 3 (ipykernel)",
   "language": "python",
   "name": "python3"
  },
  "language_info": {
   "codemirror_mode": {
    "name": "ipython",
    "version": 3
   },
   "file_extension": ".py",
   "mimetype": "text/x-python",
   "name": "python",
   "nbconvert_exporter": "python",
   "pygments_lexer": "ipython3",
   "version": "3.8.8"
  }
 },
 "nbformat": 4,
 "nbformat_minor": 4
}
